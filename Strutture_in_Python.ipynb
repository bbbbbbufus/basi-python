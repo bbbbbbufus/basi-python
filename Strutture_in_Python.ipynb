{
 "cells": [
  {
   "cell_type": "markdown",
   "id": "ee74196a-63b5-4175-8fae-a938df7bcaf1",
   "metadata": {},
   "source": [
    "<div style=\"background-color: #fffbcc; border-left: 8px solid #ffcc00; padding: 20px; margin-bottom: 20px; border-radius: 5px;\">\n",
    "    <h3 style=\"color: #d97706;\">🐍 Introduzione alle Strutture Dati in Python</h3>\n",
    "    <p style=\"font-size: 16px; line-height: 1.6;\">\n",
    "        Le strutture dati sono uno degli aspetti fondamentali della programmazione, poiché permettono di organizzare, gestire e memorizzare i dati in modo efficiente. In Python, come in molti altri linguaggi di programmazione, esistono diverse strutture dati incorporati che si adattano a vari scopi e scenari di utilizzo. Conoscere queste strutture e sapere quando utilizzarle può significativamente migliorare l'efficacia del codice e la sua manutenzione nel tempo.\n",
    "    </p>\n",
    "    <p style=\"font-size: 16px; line-height: 1.6;\">\n",
    "        In questo notebook, esploreremo le principali strutture dati offerte da Python. Ogni sezione sarà dedicata a una specifica struttura: <strong>Liste</strong>, <strong>Tuple</strong>, <strong>Dizionari</strong>,<strong> Variabili e Set.</strong>Per ciascuna di queste, discuteremo come si creano, come si manipolano, e quali operazioni sono supportate. Inoltre, vedremo esempi pratici che mostrano come queste strutture possano essere utilizzate in scenari di programmazione reali.\n",
    "    </p>\n",
    "    <p style=\"font-size: 16px; line-height: 1.6;\">\n",
    "        L'obiettivo di questo notebook è fornire una solida comprensione delle strutture dati di base in Python, permettendoti di scegliere la più adeguata a seconda delle necessità del tuo progetto. Con questa conoscenza, saremmo in grado di scrivere codice più pulito, più veloce e più sicuro.\n",
    "    </p>\n",
    "</div>\n"
   ]
  },
  {
   "cell_type": "markdown",
   "id": "64e20f4d-0703-45b7-93a1-df2050aae252",
   "metadata": {},
   "source": [
    "<div style=\"background-color: #fffbcc; border-left: 8px solid #ffcc00; padding: 20px; margin-bottom: 20px; border-radius: 5px;\">\n",
    "    <h3 style=\"color: #d97706;\">🗃 Variabili in Python</h3>\n",
    "    <p style=\"font-size: 16px; line-height: 1.6;\">\n",
    "        Le variabili sono fondamentali in qualsiasi linguaggio di programmazione. In Python, una variabile è un nome assegnato a un oggetto, il quale può essere un numero, una stringa, una lista, o qualsiasi altro tipo di dato. Le variabili sono usate per memorizzare dati, manipolare valori e facilitare la riusabilità e la leggibilità del codice.\n",
    "    </p>\n",
    "    <p style=\"font-size: 16px; line-height: 1.6;\">\n",
    "        Per dichiarare una variabile in Python, semplicemente assegniamo un valore a un nome. Python è dinamicamente tipizzato, quindi non è necessario dichiarare il tipo di dato: il tipo viene automaticamente determinato al momento dell'assegnazione.\n",
    "    </p>\n",
    "    <h4 style=\"color: #d97706;\">Esempi Semplici</h4>\n",
    "    <ul style=\"font-size: 16px; line-height: 1.6;\">\n",
    "        <li>Assegnazione di un intero: <code>x = 5</code></li>\n",
    "        <li>Assegnazione di un float: <code>a = 5,5</code></li>\n",
    "        <li>Assegnazione di una stringa: <code>saluto = \"Ciao Mondo!\"</code></li>\n",
    "        <li>Assegnazione di un valore booleano: <code>is_online = True</code></li>\n",
    "        <li>Assegnazione di un None: <code>saluto = no_value = None</code></li>\n",
    "    </ul>\n",
    "    <p style=\"font-size: 16px; line-height: 1.6;\">\n",
    "        Una volta definite, le variabili possono essere utilizzate per effettuare calcoli o chiamare metodi. Ad esempio, possiamo aggiungere numeri o concatenare stringhe:\n",
    "    </p>\n",
    "    <ul style=\"font-size: 16px; line-height: 1.6;\">\n",
    "        <li>Somma di numeri: <code>totale = x + 3</code> (risultato sarà 8)</li>\n",
    "        <li>Concatenazione di stringhe: <code>messaggio = saluto + \" Come stai?\"</code> (risultato sarà \"Ciao Mondo! Come stai?\")</li>\n",
    "    </ul>\n",
    "</div>\n"
   ]
  },
  {
   "cell_type": "code",
   "execution_count": 4,
   "id": "af50e3a4-bee0-4a64-8b50-a8049ad78359",
   "metadata": {},
   "outputs": [],
   "source": [
    "# Assegnazione di un intero\n",
    "x = 5\n",
    "\n",
    "# Assegnazione di un float\n",
    "a = 5,5\n",
    "\n",
    "# Assegnazione di una stringa\n",
    "saluto = \"Ciao Vitto!\"\n",
    "\n",
    "# Assegnazione di un valore booleano\n",
    "is_online = True\n",
    "\n",
    "# Assegnazione di un valore nullo\n",
    "no_value = None"
   ]
  },
  {
   "cell_type": "code",
   "execution_count": 10,
   "id": "01b808c3-1272-4e22-9e9a-41892e2fd5e9",
   "metadata": {},
   "outputs": [
    {
     "name": "stdout",
     "output_type": "stream",
     "text": [
      "Il totale è: 8\n"
     ]
    }
   ],
   "source": [
    "# Somma di numeri interi\n",
    "totale = x + 3\n",
    "print(\"Il totale è:\", totale)"
   ]
  },
  {
   "cell_type": "code",
   "execution_count": 12,
   "id": "1abf5015-cd2e-42f9-a177-9309008a340e",
   "metadata": {},
   "outputs": [
    {
     "name": "stdout",
     "output_type": "stream",
     "text": [
      "23.020408163265305\n"
     ]
    }
   ],
   "source": [
    "# Operazione con float\n",
    "peso = 70.5\n",
    "altezza = 1.75\n",
    "bmi = peso / (altezza ** 2)\n",
    "print(bmi)"
   ]
  },
  {
   "cell_type": "code",
   "execution_count": 13,
   "id": "f7ff4e82-ae60-40de-b168-3007a831251e",
   "metadata": {},
   "outputs": [
    {
     "name": "stdout",
     "output_type": "stream",
     "text": [
      "Ciao Vitto! Come stai?\n"
     ]
    }
   ],
   "source": [
    "# Concatenazione di stringhe\n",
    "messaggio = saluto + \" Come stai?\"\n",
    "print(messaggio)"
   ]
  },
  {
   "cell_type": "code",
   "execution_count": 14,
   "id": "bfeb5805-877d-4657-98a3-32424945a5c8",
   "metadata": {},
   "outputs": [
    {
     "name": "stdout",
     "output_type": "stream",
     "text": [
      "Frase creata: c++ è piu bello e potente.\n"
     ]
    }
   ],
   "source": [
    "parole = [\"c++\", \"è\", \"piu\", \"bello\", \"e\", \"potente.\"]\n",
    "# Unisco le parole in una frase\n",
    "frase = \" \".join(parole)\n",
    "\n",
    "print(\"Frase creata:\", frase)"
   ]
  },
  {
   "cell_type": "code",
   "execution_count": 15,
   "id": "13d81dcd-b4ce-43ea-92e8-71d651395fb1",
   "metadata": {},
   "outputs": [
    {
     "name": "stdout",
     "output_type": "stream",
     "text": [
      "is_online è True!\n"
     ]
    }
   ],
   "source": [
    "# Controllo di variabile come True\n",
    "if is_online == True:\n",
    "    print(\"is_online è True!\")"
   ]
  },
  {
   "cell_type": "code",
   "execution_count": 16,
   "id": "06dd2870-5982-444f-8f18-2f7228840da4",
   "metadata": {},
   "outputs": [
    {
     "name": "stdout",
     "output_type": "stream",
     "text": [
      "Nessun valore assegnato\n"
     ]
    }
   ],
   "source": [
    "# Controllo di variabile come None\n",
    "if no_value is None:\n",
    "    print(\"Nessun valore assegnato\")"
   ]
  },
  {
   "cell_type": "code",
   "execution_count": 17,
   "id": "5ec5d68e-3b9d-4019-8870-c85b03b82bb6",
   "metadata": {},
   "outputs": [
    {
     "name": "stdin",
     "output_type": "stream",
     "text": [
      "Indovina il numero da 1 a 100:  44\n"
     ]
    },
    {
     "name": "stdout",
     "output_type": "stream",
     "text": [
      "Il numero è più grande\n"
     ]
    },
    {
     "name": "stdin",
     "output_type": "stream",
     "text": [
      "Indovina il numero da 1 a 100:  55\n"
     ]
    },
    {
     "name": "stdout",
     "output_type": "stream",
     "text": [
      "Il numero è più grande\n"
     ]
    },
    {
     "name": "stdin",
     "output_type": "stream",
     "text": [
      "Indovina il numero da 1 a 100:  70\n"
     ]
    },
    {
     "name": "stdout",
     "output_type": "stream",
     "text": [
      "Il numero è più piccolo\n"
     ]
    },
    {
     "name": "stdin",
     "output_type": "stream",
     "text": [
      "Indovina il numero da 1 a 100:  60\n"
     ]
    },
    {
     "name": "stdout",
     "output_type": "stream",
     "text": [
      "Bravo hai indovinato il numero 60 in 4 tentativi!\n"
     ]
    }
   ],
   "source": [
    "# Importa la libreria random per generare un numero casuale\n",
    "import random\n",
    "\n",
    "# Genera un numero casuale tra 1 e 100\n",
    "numero_da_indovinare = random.randint(1, 100)\n",
    "\n",
    "# Inizializza il contatore dei tentativi\n",
    "tentativi = 0\n",
    "\n",
    "# Inizia un ciclo infinito\n",
    "while True: \n",
    "    # Chiede all'utente di inserire un numero e incrementa il contatore dei tentativi\n",
    "    tentativo = int(input(\"Indovina il numero da 1 a 100: \"))\n",
    "    tentativi += 1\n",
    "\n",
    "    # Controlla se il numero inserito è quello da indovinare\n",
    "    if tentativo == numero_da_indovinare:\n",
    "        print(\"Bravo hai indovinato il numero\", numero_da_indovinare, \"in\", tentativi, \"tentativi!\")\n",
    "        break  # Esci dal ciclo se il numero è corretto\n",
    "    elif tentativo < numero_da_indovinare: # se il tentativo è piu piccoolo del numero da indovinare, stampa :\n",
    "        print(\"Il numero è più grande\")\n",
    "    else:\n",
    "        print(\"Il numero è più piccolo\") # se il tentativo è piu grande del numero da indovinare, stampa :"
   ]
  },
  {
   "cell_type": "code",
   "execution_count": 18,
   "id": "7f11cf20-ded0-4b61-9598-eb9bab690e96",
   "metadata": {},
   "outputs": [
    {
     "name": "stdin",
     "output_type": "stream",
     "text": [
      "Inserisci il primo numero (num1):  33\n",
      "Inserisci il secondo numero (num2):  99\n"
     ]
    },
    {
     "name": "stdout",
     "output_type": "stream",
     "text": [
      "La somma dei due numeri è: 132\n",
      "La sottrazione dei due numeri è: -66\n",
      "La moltiplicazione dei due numeri è: 3267\n",
      "La divisione dei due numeri è: 0.3333333333333333\n"
     ]
    }
   ],
   "source": [
    "# Richiede all'utente di inserire il primo numero e lo converte in intero\n",
    "num1 = int(input(\"Inserisci il primo numero (num1): \"))\n",
    "\n",
    "# Richiede all'utente di inserire il secondo numero e lo converte in intero\n",
    "num2 = int(input(\"Inserisci il secondo numero (num2): \"))\n",
    "\n",
    "# Esegue la somma dei due numeri inseriti dall'utente e la memorizza nella variabile somma\n",
    "somma = num1 + num2\n",
    "# Visualizza il risultato della somma\n",
    "print(\"La somma dei due numeri è:\", somma)\n",
    "\n",
    "# Esegue la sottrazione dei due numeri inseriti dall'utente e la memorizza nella variabile sottrazione\n",
    "sottrazione = num1 - num2\n",
    "# Visualizza il risultato della sottrazione\n",
    "print(\"La sottrazione dei due numeri è:\", sottrazione)\n",
    "\n",
    "# Esegue la moltiplicazione dei due numeri inseriti dall'utente e la memorizza nella variabile moltiplicazione\n",
    "moltiplicazione = num1 * num2\n",
    "# Visualizza il risultato della moltiplicazione\n",
    "print(\"La moltiplicazione dei due numeri è:\", moltiplicazione)\n",
    "\n",
    "# Verifica se il secondo numero inserito dall'utente è zero\n",
    "if num2 == 0:\n",
    "    # In caso affermativo, visualizza un messaggio di errore perché la divisione per zero non è permessa\n",
    "    print(\"Non è possibile dividere per zero!\")\n",
    "else:\n",
    "    # In caso contrario, esegue la divisione dei due numeri e la memorizza nella variabile divisione\n",
    "    divisione = num1 / num2\n",
    "    # Visualizza il risultato della divisione\n",
    "    print(\"La divisione dei due numeri è:\", divisione)"
   ]
  },
  {
   "cell_type": "markdown",
   "id": "fd037f0b-1460-4e3e-af23-fb978b9734ae",
   "metadata": {},
   "source": [
    "<div style=\"background-color: #fffbcc; border-left: 8px solid #ffcc00; padding: 20px; margin-bottom: 20px; border-radius: 5px;\">\n",
    "    <h3 style=\"color: #d97706;\">📋 Liste in Python</h3>\n",
    "    <p style=\"font-size: 16px; line-height: 1.6;\">\n",
    "        Le liste in Python sono strutture dati ordinate e modificabili, capaci di contenere elementi di tipo misto. Sono tra le strutture dati più versatili offerte da Python, utilizzate comunemente per raggruppare insieme dati correlati. Le liste possono essere modificate dopo la loro creazione, permettendo di aggiungere, rimuovere o cambiare elementi.\n",
    "    </p>\n",
    "    <h4 style=\"color: #d97706;\">Esempi di Creazione e Modifica</h4>\n",
    "    <ul style=\"font-size: 16px; line-height: 1.6;\">\n",
    "        <li>Creazione di una lista: <code>frutta = [\"mela\", \"banana\", \"ciliegia\"]</code></li>\n",
    "        <li>Aggiunta di un elemento: <code>frutta.append(\"arancia\")</code></li>\n",
    "        <li>Rimozione di un elemento: <code>frutta.remove(\"banana\")</code></li>\n",
    "        <li>Accesso agli elementi: <code>print(frutta[0])  # Stampa \"mela\"</code></li>\n",
    "        <li>Sostituzione di un elemento: <code>frutta[2] = \"kiwi\"</code></li>\n",
    "    </ul>\n",
    "    <p style=\"font-size: 16px; line-height: 1.6;\">\n",
    "        Le liste supportano anche operazioni di slicing per accedere a sottosezioni, e possono essere iterate con un ciclo for per eseguire operazioni su ciascun elemento.\n",
    "    </p>\n",
    "    <h4 style=\"color: #d97706;\">Esempi di Iterazione e Slicing</h4>\n",
    "    <ul style=\"font-size: 16px; line-height: 1.6;\">\n",
    "        <li>Iterazione: <code>for frutto in frutta: print(frutto)</code></li>\n",
    "        <li>Slicing: <code>print(frutta[1:3])  # Stampa gli elementi da indice 1 a 2</code></li>\n",
    "    </ul>\n",
    "</div>\n"
   ]
  },
  {
   "cell_type": "code",
   "execution_count": 19,
   "id": "a1d26084-f122-417a-a3f0-8e386e935f62",
   "metadata": {},
   "outputs": [
    {
     "name": "stdout",
     "output_type": "stream",
     "text": [
      "mela\n",
      "mela\n",
      "ciliegia\n",
      "kiwi\n",
      "['ciliegia', 'kiwi']\n"
     ]
    }
   ],
   "source": [
    "# Creazione di una lista\n",
    "frutta = [\"mela\", \"banana\", \"ciliegia\"]\n",
    "\n",
    "# Aggiunta di un elemento\n",
    "frutta.append(\"arancia\")\n",
    "\n",
    "# Rimozione di un elemento\n",
    "frutta.remove(\"banana\")\n",
    "\n",
    "# Accesso agli elementi\n",
    "print(frutta[0])  # Stampa \"mela\"\n",
    "\n",
    "# Sostituzione di un elemento\n",
    "frutta[2] = \"kiwi\"\n",
    "\n",
    "# Iterazione su tutti gli elementi della lista\n",
    "for frutto in frutta:\n",
    "    print(frutto)\n",
    "\n",
    "# Slicing di una lista\n",
    "print(frutta[1:3])  # Stampa gli elementi con indice 1 e 2 della lista"
   ]
  },
  {
   "cell_type": "code",
   "execution_count": 21,
   "id": "b5b7d101-54fb-41a9-8934-051beb0befbe",
   "metadata": {},
   "outputs": [
    {
     "name": "stdout",
     "output_type": "stream",
     "text": [
      "casa: 2\n",
      "albero: 3\n",
      "sole: 2\n"
     ]
    }
   ],
   "source": [
    "def conta_vocali(parole):\n",
    "    # Definisce una stringa contenente tutte le vocali.\n",
    "    vocali = 'aeiou'\n",
    "    # Itera su ogni parola nella lista fornita.\n",
    "    for parola in parole:\n",
    "        conteggio = 0  # Inizializza un contatore per le vocali a zero.\n",
    "        # Itera su ogni lettera nella parola corrente.\n",
    "        for lettera in parola:\n",
    "            # Controlla se la lettera è una vocale.\n",
    "            if lettera in vocali:\n",
    "                conteggio += 1  # Incrementa il contatore se trova una vocale.\n",
    "        # Stampa il risultato per la parola corrente.\n",
    "        print(f\"{parola}: {conteggio}\")\n",
    "\n",
    "lista_parole = [\"casa\", \"albero\", \"sole\"]  # Lista di parole da analizzare.\n",
    "conta_vocali(lista_parole)  # Chiama la funzione passando la lista di parole."
   ]
  },
  {
   "cell_type": "code",
   "execution_count": 23,
   "id": "6f2f9650-3072-4b9a-ad3b-3f5fcd71b79e",
   "metadata": {},
   "outputs": [
    {
     "name": "stdout",
     "output_type": "stream",
     "text": [
      "Personaggio fantasy generato: \n",
      "Specie: Elfo\n",
      "Classe: Chierico\n",
      "Arma: Spada\n",
      "Abilità: Cura\n"
     ]
    }
   ],
   "source": [
    "# importa la libreria random\n",
    "import random\n",
    "\n",
    "# Possibili scelte per ogni attributo del personaggio\n",
    "speci = [\"Umano\", \"Elfo\", \"Nano\", \"Orco\"]\n",
    "classi = [\"Guerriero\", \"Mago\", \"Ladro\", \"Chierico\"]\n",
    "armi = [\"Spada\", \"Arco\", \"Bastone\", \"Pugnale\"]\n",
    "abilita = [\"Fuoco\", \"Gelo\", \"Cura\", \"Invisibilità\", \"Forza\", \"Velocità\"]\n",
    "\n",
    "# Scelte casuali per ogni attributo del personaggio\n",
    "specie = random.choice(speci)\n",
    "classe = random.choice(classi)\n",
    "arma = random.choice(armi)\n",
    "abilitas = random.sample(abilita, random.randint(1, 3)) # sample cosi decido io quanti elementi prendere\n",
    "\n",
    "# Stampa delle informazioni del personaggio generato\n",
    "print(\"Personaggio fantasy generato: \")\n",
    "print(f\"Specie: {specie}\")\n",
    "print(f\"Classe: {classe}\")\n",
    "print(f\"Arma: {arma}\")\n",
    "print(f\"Abilità: {', '.join(abilitas)}\")"
   ]
  },
  {
   "cell_type": "code",
   "execution_count": 24,
   "id": "052d8a83-2c8e-40cc-bd17-2d8de8986f34",
   "metadata": {},
   "outputs": [
    {
     "name": "stdout",
     "output_type": "stream",
     "text": [
      "Benvenuti al gioco della morra cinese!\n"
     ]
    },
    {
     "name": "stdin",
     "output_type": "stream",
     "text": [
      "Scegli la tua mossa (carta, forbice, sasso):  carta\n"
     ]
    },
    {
     "name": "stdout",
     "output_type": "stream",
     "text": [
      "Il computer ha scelto: sasso\n",
      "Hai vinto!\n"
     ]
    }
   ],
   "source": [
    "# Importa la libreria random per generare una mossa casuale per il computer\n",
    "import random\n",
    "\n",
    "# Creiamo Una lista delle mosse possibili nel gioco\n",
    "mosse = [\"carta\", \"forbice\", \"sasso\"]\n",
    "\n",
    "# Il computer sceglie una mossa in modo casuale dalla lista delle mosse\n",
    "computer_mossa = random.choice(mosse) #.choice serve per scegliere casualmente in mezzo ad una lista(in questo caso)\n",
    "\n",
    "# Stampa un messaggio di benvenuto\n",
    "print(\"Benvenuti al gioco della morra cinese!\")\n",
    "\n",
    "# Il giocatore sceglie una mossa\n",
    "scelta_giocatore = input(\"Scegli la tua mossa (carta, forbice, sasso): \")\n",
    "\n",
    "# Controlla se la mossa del giocatore è valida\n",
    "if scelta_giocatore not in mosse:\n",
    "    print(\"Errore, mossa non valida!\")\n",
    "else:\n",
    "    # Mostra la mossa scelta dal computer\n",
    "    print(\"Il computer ha scelto:\", computer_mossa)\n",
    "    \n",
    "    # Controllo chi ha vinto\n",
    "    # Se le mosse sono uguali, è un pareggio\n",
    "    if scelta_giocatore == computer_mossa:\n",
    "        print(\"Pareggio!\")\n",
    "    # Condizioni in cui il giocatore vince\n",
    "    elif (\n",
    "        (scelta_giocatore == \"carta\" and computer_mossa == \"sasso\") or \n",
    "        (scelta_giocatore == \"forbice\" and computer_mossa == \"carta\") or \n",
    "        (scelta_giocatore == \"sasso\" and computer_mossa == \"forbice\")\n",
    "    ):\n",
    "        print(\"Hai vinto!\")\n",
    "    # Se non è un pareggio e il giocatore non ha vinto, il giocatore perde\n",
    "    else:\n",
    "        print(\"Hai perso!\")"
   ]
  },
  {
   "cell_type": "markdown",
   "id": "62bba72b-4dcc-4246-bd3e-a61486e0b53e",
   "metadata": {},
   "source": [
    "<div style=\"background-color: #fffbcc; border-left: 8px solid #ffcc00; padding: 20px; margin-bottom: 20px; border-radius: 5px;\">\n",
    "    <h3 style=\"color: #d97706;\">📖 Dizionari in Python</h3>\n",
    "    <p style=\"font-size: 16px; line-height: 1.6;\">\n",
    "        I dizionari sono strutture dati molto potenti e flessibili in Python, utilizzati per memorizzare una mappatura di chiavi univoche a valori. A differenza delle liste, che sono indicizzate numericamente, i dizionari permettono l'uso di un indice di qualsiasi tipo immutabile (solitamente stringhe e numeri). Questo li rende ideali per casi d'uso dove si desidera un accesso rapido agli elementi senza dover iterare su tutti gli elementi.\n",
    "    </p>\n",
    "    <h4 style=\"color: #d97706;\">Esempi di Creazione e Modifica</h4>\n",
    "    <ul style=\"font-size: 16px; line-height: 1.6;\">\n",
    "        <li>Creazione di un dizionario: <code>persona = {\"nome\": \"Mario\", \"età\": 30, \"città\": \"Napoli\"}</code></li>\n",
    "        <li>Aggiunta di una coppia chiave-valore: <code>persona[\"altezza\"] = 175</code></li>\n",
    "        <li>Accesso ai valori: <code>print(persona[\"nome\"])  # Stampa \"Mario\"</code></li>\n",
    "        <li>Modifica di un valore: <code>persona[\"età\"] = 31</code></li>\n",
    "        <li>Rimozione di una coppia chiave-valore: <code>del persona[\"città\"]</code></li>\n",
    "    </ul>\n",
    "    <p style=\"font-size: 16px; line-height: 1.6;\">\n",
    "        I dizionari supportano anche metodi avanzati come <code>get()</code>, <code>keys()</code>, <code>values()</code>, e <code>items()</code> per facilitare l'accesso e la gestione dei dati.\n",
    "    </p>\n",
    "    <h4 style=\"color: #d97706;\">Esempi di Utilizzo dei Metodi dei Dizionari</h4>\n",
    "    <ul style=\"font-size: 16px; line-height: 1.6;\">\n",
    "        <li>Uso di <code>get()</code>: <code>print(persona.get(\"nome\", \"Non trovato\"))</code></li>\n",
    "        <li>Elenca tutte le chiavi: <code>print(list(persona.keys()))</code></li>\n",
    "        <li>Elenca tutti i valori: <code>print(list(persona.values()))</code></li>\n",
    "        <li>Elenca tutte le coppie chiave-valore: <code>print(list(persona.items()))</code></li>\n",
    "    </ul>\n",
    "</div>\n"
   ]
  },
  {
   "cell_type": "code",
   "execution_count": 25,
   "id": "65ae95bc-ada2-48dd-b741-4a15e2b363e4",
   "metadata": {},
   "outputs": [
    {
     "name": "stdout",
     "output_type": "stream",
     "text": [
      "Mario\n",
      "Mario\n",
      "['nome', 'età', 'altezza']\n",
      "['Mario', 31, 175]\n",
      "[('nome', 'Mario'), ('età', 31), ('altezza', 175)]\n"
     ]
    }
   ],
   "source": [
    "# Creazione di un dizionario\n",
    "persona = {\"nome\": \"Mario\", \n",
    "           \"età\": 30, \n",
    "           \"città\": \"Napoli\"}\n",
    "\n",
    "# Aggiunta di una coppia chiave-valore\n",
    "persona[\"altezza\"] = 175\n",
    "\n",
    "# Accesso ai valori\n",
    "print(persona[\"nome\"])  # Stampa \"Mario\"\n",
    "\n",
    "# Modifica di un valore\n",
    "persona[\"età\"] = 31\n",
    "\n",
    "# Rimozione di una coppia chiave-valore\n",
    "del persona[\"città\"]\n",
    "\n",
    "# Uso di get()\n",
    "print(persona.get(\"nome\", \"Non trovato\"))  # Stampa \"Mario\" o \"Non trovato\" se la chiave non esiste\n",
    "\n",
    "# Elenca tutte le chiavi\n",
    "print(list(persona.keys()))  # Stampa tutte le chiavi del dizionario\n",
    "\n",
    "# Elenca tutti i valori\n",
    "print(list(persona.values()))  # Stampa tutti i valori del dizionario\n",
    "\n",
    "# Elenca tutte le coppie chiave-valore\n",
    "print(list(persona.items()))  # Stampa tutte le coppie chiave-valore come tuple"
   ]
  },
  {
   "cell_type": "code",
   "execution_count": 27,
   "id": "595de9d8-4808-4575-8faa-2941e9a7df95",
   "metadata": {},
   "outputs": [
    {
     "name": "stdout",
     "output_type": "stream",
     "text": [
      "Benvenuto nell'orologio mondiale!\n",
      "\n",
      "Città disponibili: \n",
      "New York\n",
      "Londra\n",
      "Tokyo\n",
      "Sydney\n",
      "Rio de Janeiro\n",
      "Mosca\n",
      "Pechino\n",
      "Delhi\n",
      "Berlino\n",
      "Città del Messico\n",
      "Johannesburg\n",
      "Dubai\n",
      "Singapore\n"
     ]
    },
    {
     "name": "stdin",
     "output_type": "stream",
     "text": [
      "\n",
      "Inserisci il nome della città per visualizzare l'ora (o 'esci' per uscire):  New York\n"
     ]
    },
    {
     "name": "stdout",
     "output_type": "stream",
     "text": [
      "L'ora attuale a New York è 02:46:54\n",
      "\n",
      "\n",
      "Città disponibili: \n",
      "New York\n",
      "Londra\n",
      "Tokyo\n",
      "Sydney\n",
      "Rio de Janeiro\n",
      "Mosca\n",
      "Pechino\n",
      "Delhi\n",
      "Berlino\n",
      "Città del Messico\n",
      "Johannesburg\n",
      "Dubai\n",
      "Singapore\n"
     ]
    },
    {
     "name": "stdin",
     "output_type": "stream",
     "text": [
      "\n",
      "Inserisci il nome della città per visualizzare l'ora (o 'esci' per uscire):  esci\n"
     ]
    },
    {
     "name": "stdout",
     "output_type": "stream",
     "text": [
      "Arrivederci!\n"
     ]
    }
   ],
   "source": [
    "# Importazione delle librerie necessarie\n",
    "from datetime import datetime\n",
    "import pytz\n",
    "\n",
    "# Messaggio di benvenuto all'utente\n",
    "print(\"Benvenuto nell'orologio mondiale!\")\n",
    "\n",
    "# Dizionario che specifica il nome di alcune città al loro corrispondente fuso orario\n",
    "citta_fuso_orari = {\n",
    "    \"New York\": \"America/New_York\",\n",
    "    \"Londra\": \"Europe/London\",\n",
    "    \"Tokyo\": \"Asia/Tokyo\",\n",
    "    \"Sydney\": \"Australia/Sydney\",\n",
    "    \"Rio de Janeiro\": \"America/Sao_Paulo\",\n",
    "    \"Mosca\": \"Europe/Moscow\",\n",
    "    \"Pechino\": \"Asia/Shanghai\",\n",
    "    \"Delhi\": \"Asia/Kolkata\",\n",
    "    \"Berlino\": \"Europe/Berlin\",\n",
    "    \"Città del Messico\": \"America/Mexico_City\",\n",
    "    \"Johannesburg\": \"Africa/Johannesburg\",\n",
    "    \"Dubai\": \"Asia/Dubai\",\n",
    "    \"Singapore\": \"Asia/Singapore\"\n",
    "}\n",
    "\n",
    "# Ciclo principale del programma, che continua a girare finché l'utente non decide di uscire\n",
    "while True:\n",
    "    # Mostra all'utente una lista delle città disponibili\n",
    "    print(\"\\nCittà disponibili: \") #\\n è per andare a capo\n",
    "    # Itera attraverso tutte le chiavi nel dizionario citta_fuso_orari\n",
    "    for citta in citta_fuso_orari.keys():\n",
    "        # Stampa il nome della città\n",
    "        print(citta)\n",
    "        \n",
    "    # Richiede all'utente di inserire il nome di una città o 'esci' per uscire\n",
    "    scelta_citta = input(\"\\nInserisci il nome della città per visualizzare l'ora (o 'esci' per uscire): \").strip()\n",
    "    \n",
    "    # Verifica se l'utente ha digitato 'esci'\n",
    "    if scelta_citta.lower() == \"esci\":\n",
    "        # Saluta l'utente e termina il ciclo, chiudendo il programma\n",
    "        print(\"Arrivederci!\")\n",
    "        break\n",
    "    \n",
    "    # Verifica se la città inserita dall'utente è presente nel dizionario dei fusi orari\n",
    "    elif scelta_citta in citta_fuso_orari:\n",
    "        # Recupera il fuso orario della città scelta\n",
    "        fuso_orario = pytz.timezone(citta_fuso_orari[scelta_citta])\n",
    "        # Ottiene l'ora corrente nel fuso orario della città scelta\n",
    "        ora_corrente = datetime.now(fuso_orario)\n",
    "        # Visualizza l'ora corrente nella città scelta\n",
    "        print(f\"L'ora attuale a {scelta_citta} è {ora_corrente.strftime('%H:%M:%S')}\\n\")\n",
    "    \n",
    "    # Se la città inserita non è nel dizionario, mostra un messaggio di errore e ripete il ciclo\n",
    "    else:\n",
    "        print(\"La città inserita non è nella lista. Per favore, prova di nuovo.\")"
   ]
  },
  {
   "cell_type": "code",
   "execution_count": 28,
   "id": "b1e71795-28ef-4467-8d9a-e78b8fa41b55",
   "metadata": {},
   "outputs": [
    {
     "name": "stdin",
     "output_type": "stream",
     "text": [
      "Inserisci una parola per ottenere il suo punteggio (oppure digita 'exit' per uscire):  unreal engine il mio pookie\n"
     ]
    },
    {
     "name": "stdout",
     "output_type": "stream",
     "text": [
      "Il punteggio di 'unreal engine il mio pookie' è 32.\n"
     ]
    },
    {
     "name": "stdin",
     "output_type": "stream",
     "text": [
      "Inserisci una parola per ottenere il suo punteggio (oppure digita 'exit' per uscire):  exit\n"
     ]
    }
   ],
   "source": [
    "def main():\n",
    "    # Dizionario che mappa ogni lettera ai suoi punti secondo il gioco Scrabble\n",
    "    punteggi = {\n",
    "        'A': 1, 'E': 1, 'I': 1, 'O': 1, 'U': 1, 'L': 1, 'N': 1, 'S': 1, 'T': 1, 'R': 1,\n",
    "        'D': 2, 'G': 2,\n",
    "        'B': 3, 'C': 3, 'M': 3, 'P': 3,\n",
    "        'F': 4, 'H': 4, 'V': 4, 'W': 4, 'Y': 4,\n",
    "        'K': 5,\n",
    "        'J': 8, 'X': 8,\n",
    "        'Q': 10, 'Z': 10\n",
    "    }\n",
    "\n",
    "    # Funzione che calcola il punteggio di una parola sommando i punti di ogni lettera\n",
    "    def calcola_punteggio(parola):\n",
    "        # Usa la funzione sum per sommare i punti di ogni lettera, convertendo la lettera in maiuscolo.\n",
    "        # Se la lettera non è nel dizionario, usa 0 come valore predefinito.\n",
    "        return sum(punteggi.get(lettera.upper(), 0) for lettera in parola)\n",
    "\n",
    "    # Ciclo infinito che continua a chiedere all'utente di inserire parole fino a quando non digita 'exit'\n",
    "    while True:\n",
    "        parola = input(\"Inserisci una parola per ottenere il suo punteggio (oppure digita 'exit' per uscire): \")\n",
    "        # Controllo se l'input dell'utente è 'exit' per terminare il ciclo\n",
    "        if parola.lower() == 'exit':\n",
    "            break\n",
    "        # Stampa il punteggio della parola utilizzando la funzione calcola_punteggio\n",
    "        print(f\"Il punteggio di '{parola}' è {calcola_punteggio(parola)}.\")\n",
    "\n",
    "if __name__ == \"__main__\":\n",
    "    main()"
   ]
  },
  {
   "cell_type": "code",
   "execution_count": 30,
   "id": "851b9e4e-2fb6-496e-8b2a-c41db6a86e4d",
   "metadata": {},
   "outputs": [
    {
     "name": "stdin",
     "output_type": "stream",
     "text": [
      "Inserisci il nome dello studente (oppure digita 'exit' per terminare):  Vittorio\n",
      "Inserisci i voti separati da spazi (es. 24 28 30):  10 8 7\n",
      "Inserisci il nome dello studente (oppure digita 'exit' per terminare):  Esther\n",
      "Inserisci i voti separati da spazi (es. 24 28 30):  9 9 7\n",
      "Inserisci il nome dello studente (oppure digita 'exit' per terminare):  exit\n"
     ]
    },
    {
     "name": "stdout",
     "output_type": "stream",
     "text": [
      "Il voto più alto è: 10\n",
      "Il voto più basso è: 7\n",
      "vittorio ha una media di 8.33\n",
      "esther ha una media di 8.33\n"
     ]
    }
   ],
   "source": [
    "def inserisci_dati_studenti():\n",
    "    studenti = {}  # Dizionario vuoto per conservare i nomi degli studenti e i loro voti.\n",
    "    while True:  # Un ciclo infinito che permette l'inserimento continuo di dati finché non si sceglie di uscire.\n",
    "        nome = input(\"Inserisci il nome dello studente (oppure digita 'exit' per terminare): \").lower()  # Chiede il nome dello studente, convertendolo in minuscolo.\n",
    "        if nome == 'exit':  # Se l'utente digita 'exit', interrompe il ciclo.\n",
    "            break\n",
    "        voti = map(int, input(\"Inserisci i voti separati da spazi (es. 24 28 30): \").split())  # Converte i voti da stringhe a interi.\n",
    "        studenti[nome] = list(voti)  # Assegna la lista dei voti al nome dello studente nel dizionario.\n",
    "    return studenti  # Ritorna il dizionario completo dei dati degli studenti.\n",
    "\n",
    "def calcola_media(voti):\n",
    "    return sum(voti) / len(voti) if voti else 0  # Calcola la media dei voti. Se la lista è vuota, ritorna 0.\n",
    "\n",
    "def prestazioni_classe(studenti):\n",
    "    voti_totali = [voto for voti in studenti.values() for voto in voti if voti]  # Crea una lista di tutti i voti presenti.\n",
    "    max_voto = max(voti_totali, default=0)  # Trova il voto massimo nella lista dei voti.\n",
    "    min_voto = min(voti_totali, default=0)  # Trova il voto minimo nella lista dei voti.\n",
    "    print(f\"Il voto più alto è: {max_voto}\")  # Stampa il voto più alto trovato.\n",
    "    print(f\"Il voto più basso è: {min_voto}\")  # Stampa il voto più basso trovato.\n",
    "    for nome, voti in studenti.items():  # Itera su ciascuno studente e i suoi voti.\n",
    "        media = calcola_media(voti)  # Calcola la media dei voti per lo studente corrente.\n",
    "        print(f\"{nome} ha una media di {media:.2f}\")  # Stampa il nome dello studente e la sua media.\n",
    "\n",
    "def main():\n",
    "    studenti = inserisci_dati_studenti()  # Richiama la funzione per ottenere i dati degli studenti.\n",
    "    prestazioni_classe(studenti)  # Analizza e stampa le prestazioni di classe basate sui dati raccolti.\n",
    "\n",
    "if __name__ == \"__main__\":\n",
    "    main()"
   ]
  },
  {
   "cell_type": "markdown",
   "id": "9995574a-bc3e-4707-aa02-b048523c0150",
   "metadata": {},
   "source": [
    "<div style=\"background-color: #fffbcc; border-left: 8px solid #ffcc00; padding: 20px; margin-bottom: 20px; border-radius: 5px;\">\n",
    "    <h3 style=\"color: #d97706;\">🔢 Set in Python</h3>\n",
    "    <p style=\"font-size: 16px; line-height: 1.6;\">\n",
    "        I set in Python sono collezioni non ordinate di elementi unici. Essendo non ordinati, i set non supportano l'accesso agli elementi tramite indici. I set sono utili quando è necessario mantenere un insieme di elementi senza duplicati e sono particolarmente efficienti per operazioni come l'unione, l'intersezione e la differenza.\n",
    "    </p>\n",
    "    <h4 style=\"color: #d97706;\">Esempi di Creazione e Modifica</h4>\n",
    "    <ul style=\"font-size: 16px; line-height: 1.6;\">\n",
    "        <li>Creazione di un set: <code>numeri = {1, 2, 3, 4, 5}</code></li>\n",
    "        <li>Aggiunta di un elemento: <code>numeri.add(6)</code></li>\n",
    "        <li>Rimozione di un elemento: <code>numeri.remove(3)</code></li>\n",
    "        <li>Verifica dell'appartenenza: <code>print(4 in numeri)  # Stampa True</code></li>\n",
    "    </ul>\n",
    "    <p style=\"font-size: 16px; line-height: 1.6;\">\n",
    "        I set sono ideali per testare l'appartenenza e per eliminare duplicati. Possono anche essere utilizzati per eseguire operazioni matematiche di insieme, come l'unione, l'intersezione, la differenza, e la differenza simmetrica.\n",
    "    </p>\n",
    "    <h4 style=\"color: #d97706;\">Esempi di Operazioni su Set</h4>\n",
    "    <ul style=\"font-size: 16px; line-height: 1.6;\">\n",
    "        <li>Unione di set: <code>altri_numeri = {5, 6, 7}; unione = numeri.union(altri_numeri)</code></li>\n",
    "        <li>Intersezione di set: <code>intersezione = numeri.intersection(altri_numeri)</code></li>\n",
    "        <li>Differenza di set: <code>differenza = numeri.difference(altri_numeri)</code></li>\n",
    "        <li>Differenza simmetrica: <code>diff_simmetrica = numeri.symmetric_difference(altri_numeri)</code></li>\n",
    "    </ul>\n",
    "</div>\n"
   ]
  },
  {
   "cell_type": "code",
   "execution_count": 31,
   "id": "6f05c96f-888c-4d11-b006-2c350369fc66",
   "metadata": {},
   "outputs": [
    {
     "name": "stdout",
     "output_type": "stream",
     "text": [
      "True\n",
      "Unione: {1, 2, 4, 5, 6, 7}\n",
      "Intersezione: {5, 6}\n",
      "Differenza: {1, 2, 4}\n",
      "Differenza Simmetrica: {1, 2, 4, 7}\n"
     ]
    }
   ],
   "source": [
    "# Creazione di un set\n",
    "numeri = {1, 2, 3, 4, 5}\n",
    "\n",
    "# Aggiunta di un elemento\n",
    "numeri.add(6)\n",
    "\n",
    "# Rimozione di un elemento\n",
    "numeri.remove(3)\n",
    "\n",
    "# Verifica dell'appartenenza\n",
    "print(4 in numeri)  # Stampa True se 4 è nel set, altrimenti False\n",
    "\n",
    "# Operazioni su set\n",
    "altri_numeri = {5, 6, 7}\n",
    "\n",
    "# Unione di set\n",
    "unione = numeri.union(altri_numeri)\n",
    "print(\"Unione:\", unione)\n",
    "\n",
    "# Intersezione di set\n",
    "intersezione = numeri.intersection(altri_numeri)\n",
    "print(\"Intersezione:\", intersezione)\n",
    "\n",
    "# Differenza di set\n",
    "differenza = numeri.difference(altri_numeri)\n",
    "print(\"Differenza:\", differenza)\n",
    "\n",
    "# Differenza simmetrica\n",
    "diff_simmetrica = numeri.symmetric_difference(altri_numeri)\n",
    "print(\"Differenza Simmetrica:\", diff_simmetrica)"
   ]
  },
  {
   "cell_type": "code",
   "execution_count": 33,
   "id": "a98033c8-738e-4b30-b37e-fd20ef99016d",
   "metadata": {},
   "outputs": [
    {
     "name": "stdout",
     "output_type": "stream",
     "text": [
      "Dopo l'update: {1, 2, 3, 4, 5, 6}\n"
     ]
    }
   ],
   "source": [
    "# Aggiungere tutti gli elementi di un altro set\n",
    "numeri = {1, 2, 3}\n",
    "altri_numeri = {4, 5, 6}\n",
    "numeri.update(altri_numeri)\n",
    "print(\"Dopo l'update:\", numeri)"
   ]
  },
  {
   "cell_type": "code",
   "execution_count": 34,
   "id": "11d05ebb-8206-4ec7-9180-0de9e3ce519d",
   "metadata": {},
   "outputs": [
    {
     "name": "stdout",
     "output_type": "stream",
     "text": [
      "Studenti in tutti e tre i gruppi: {'Carmen'}\n"
     ]
    }
   ],
   "source": [
    "# Gruppi di studio\n",
    "matematica = {\"Alice\", \"Bob\", \"Carmen\", \"Derek\"}\n",
    "fisica = {\"Bob\", \"Carmen\", \"Elaine\", \"Felix\"}\n",
    "chimica = {\"Carmen\", \"Derek\", \"Elaine\"}\n",
    "\n",
    "# Trova studenti che partecipano a tutti e tre i gruppi\n",
    "studenti_in_tutti_i_gruppi = matematica.intersection(fisica, chimica)\n",
    "print(\"Studenti in tutti e tre i gruppi:\", studenti_in_tutti_i_gruppi)\n"
   ]
  },
  {
   "cell_type": "markdown",
   "id": "e9b21ea0-d0ac-4fcb-b5a5-90334b4596d8",
   "metadata": {},
   "source": [
    "<div style=\"background-color: #fffbcc; border-left: 8px solid #ffcc00; padding: 20px; margin-bottom: 20px; border-radius: 5px;\">\n",
    "    <h3 style=\"color: #d97706;\">🔗 Tuple in Python</h3>\n",
    "    <p style=\"font-size: 16px; line-height: 1.6;\">\n",
    "        Le tuple sono simili alle liste, ma con una differenza fondamentale: sono immutabili. Questo significa che, una volta create, i loro elementi non possono essere modificati. Le tuple sono spesso usate per memorizzare dati che non dovrebbero cambiare nel corso dell'esecuzione del programma e per proteggere questi dati da modifiche accidentali. Inoltre, le tuple possono essere usate come chiavi in un dizionario, a differenza delle liste.\n",
    "    </p>\n",
    "    <h4 style=\"color: #d97706;\">Esempi di Creazione e Utilizzo</h4>\n",
    "    <ul style=\"font-size: 16px; line-height: 1.6;\">\n",
    "        <li>Creazione di una tupla: <code>dimensioni = (200, 50)</code></li>\n",
    "        <li>Accesso agli elementi: <code>print(dimensioni[0])  # Stampa 200</code></li>\n",
    "        <li>Prova di modifica (questo solleverà un errore): <code>dimensioni[0] = 150</code></li>\n",
    "    </ul>\n",
    "    <p style=\"font-size: 16px; line-height: 1.6;\">\n",
    "        Le tuple sono spesso usate in Python per il passaggio di argomenti a funzioni e ritorno di più valori da una funzione. Sono una parte essenziale di Python e utilizzate in molte API integrate.\n",
    "    </p>\n",
    "    <h4 style=\"color: #d97706;\">Esempi di Uso in Funzioni</h4>\n",
    "    <ul style=\"font-size: 16px; line-height: 1.6;\">\n",
    "        <li>Chiamata funzione: <code>area = misura_area(dimensioni)</code> (usa la tupla <code>dimensioni</code> come argomento)</li>\n",
    "    </ul>\n",
    "</div>\n"
   ]
  },
  {
   "cell_type": "code",
   "execution_count": 35,
   "id": "4de6c58d-b935-4599-8a9f-5ee0da1466c8",
   "metadata": {},
   "outputs": [
    {
     "name": "stdout",
     "output_type": "stream",
     "text": [
      "200\n",
      "Errore: 'tuple' object does not support item assignment\n",
      "L'area è: 10000\n"
     ]
    }
   ],
   "source": [
    "# Creazione di una tupla\n",
    "dimensioni = (200, 50)\n",
    "\n",
    "# Accesso agli elementi\n",
    "print(dimensioni[0])  # Stampa 200\n",
    "\n",
    "# Tentativo di modifica (questo solleverà un errore perché le tuple sono immutabili)\n",
    "try:\n",
    "    dimensioni[0] = 150\n",
    "except TypeError as e:\n",
    "    print(\"Errore:\", e)\n",
    "\n",
    "# Funzione che utilizza una tupla per calcolare un'area\n",
    "def misura_area(dim):\n",
    "    return dim[0] * dim[1]\n",
    "\n",
    "# Chiamata della funzione con una tupla\n",
    "area = misura_area(dimensioni)\n",
    "print(\"L'area è:\", area)  # Calcola e stampa l'area"
   ]
  },
  {
   "cell_type": "code",
   "execution_count": 37,
   "id": "cc190cf3-34fa-46eb-9377-462f4c2e17d0",
   "metadata": {},
   "outputs": [
    {
     "name": "stdin",
     "output_type": "stream",
     "text": [
      "Vuoi aggiungere un animale o visualizzare lo zoo? (aggiungi/visualizza/esci):  aggiungi\n",
      "Inserisci il nome dell'animale:  Scoiattolo\n",
      "Inserisci il tipo di animale (es. mammifero, uccello, rettile):  mammifero\n",
      "Vuoi aggiungere un animale o visualizzare lo zoo? (aggiungi/visualizza/esci):  aggiungi\n",
      "Inserisci il nome dell'animale:  Megalodonte\n",
      "Inserisci il tipo di animale (es. mammifero, uccello, rettile):  mammifero\n",
      "Vuoi aggiungere un animale o visualizzare lo zoo? (aggiungi/visualizza/esci):  aggiungi\n",
      "Inserisci il nome dell'animale:  Piccione\n",
      "Inserisci il tipo di animale (es. mammifero, uccello, rettile):  uccello\n",
      "Vuoi aggiungere un animale o visualizzare lo zoo? (aggiungi/visualizza/esci):  visualizza\n"
     ]
    },
    {
     "name": "stdout",
     "output_type": "stream",
     "text": [
      "Animali nello zoo:\n",
      "Nome: Scoiattolo, Tipo: mammifero\n",
      "Nome: Megalodonte, Tipo: mammifero\n",
      "Nome: Piccione, Tipo: uccello\n"
     ]
    },
    {
     "name": "stdin",
     "output_type": "stream",
     "text": [
      "Vuoi aggiungere un animale o visualizzare lo zoo? (aggiungi/visualizza/esci):  esci\n"
     ]
    }
   ],
   "source": [
    "def main():\n",
    "    # Inizializza una lista vuota per gli animali dello zoo\n",
    "    zoo = []\n",
    "\n",
    "    # Ciclo infinito per interagire con l'utente\n",
    "    while True:\n",
    "        operazione = input(\"Vuoi aggiungere un animale o visualizzare lo zoo? (aggiungi/visualizza/esci): \").lower()\n",
    "        if operazione == \"esci\":\n",
    "            break  # Esce dal ciclo se l'utente digita 'esci'\n",
    "        elif operazione == \"aggiungi\":\n",
    "            nome = input(\"Inserisci il nome dell'animale: \")\n",
    "            tipo = input(\"Inserisci il tipo di animale (es. mammifero, uccello, rettile): \")\n",
    "            animale = (nome, tipo)  # Crea una tupla con nome e tipo\n",
    "            zoo.append(animale)  # Aggiunge la tupla alla lista degli animali dello zoo\n",
    "        elif operazione == \"visualizza\":\n",
    "            print(\"Animali nello zoo:\")\n",
    "            for animale in zoo:\n",
    "                print(f\"Nome: {animale[0]}, Tipo: {animale[1]}\")  # Visualizza ogni animale come Nome: [nome], Tipo: [tipo]\n",
    "\n",
    "if __name__ == \"__main__\":\n",
    "    main()"
   ]
  },
  {
   "cell_type": "code",
   "execution_count": null,
   "id": "2fddbd07-8808-475f-bd3f-ff932d2e4b25",
   "metadata": {},
   "outputs": [],
   "source": []
  }
 ],
 "metadata": {
  "kernelspec": {
   "display_name": "Python 3 (ipykernel)",
   "language": "python",
   "name": "python3"
  },
  "language_info": {
   "codemirror_mode": {
    "name": "ipython",
    "version": 3
   },
   "file_extension": ".py",
   "mimetype": "text/x-python",
   "name": "python",
   "nbconvert_exporter": "python",
   "pygments_lexer": "ipython3",
   "version": "3.12.2"
  }
 },
 "nbformat": 4,
 "nbformat_minor": 5
}
