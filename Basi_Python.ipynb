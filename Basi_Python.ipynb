{
 "cells": [
  {
   "cell_type": "markdown",
   "id": "7a9ca9ff",
   "metadata": {},
   "source": [
    "\n",
    "<div style=\"margin: 20px 0; padding: 10px; background-color: #f7f7f7; border-left: 5px solid #007BFF;\">\n",
    "    <h1 style=\"color: #333; font-family: 'Arial', sans-serif; text-align: center;\">\n",
    "        Basi Python\n",
    "    </h1>\n",
    "</div>\n"
   ]
  },
  {
   "cell_type": "code",
   "execution_count": 10,
   "id": "b17f14b6",
   "metadata": {},
   "outputs": [
    {
     "name": "stdout",
     "output_type": "stream",
     "text": [
      "ciao\n",
      "bello\n"
     ]
    }
   ],
   "source": [
    "#capire il comando print\n",
    "print(\"ciao\")\n",
    "print(\"bello\")"
   ]
  },
  {
   "cell_type": "code",
   "execution_count": 4,
   "id": "b0dec4a3",
   "metadata": {},
   "outputs": [
    {
     "name": "stdout",
     "output_type": "stream",
     "text": [
      "inserisci il tuo nome: Vitto\n",
      "ciao Vitto quanto sei bello\n"
     ]
    }
   ],
   "source": [
    "# capire il comando input\n",
    "name = input(\"inserisci il tuo nome: \")\n",
    "print(\"ciao\", name, \"quanto sei bello\")"
   ]
  },
  {
   "cell_type": "code",
   "execution_count": 2,
   "id": "4c390a20",
   "metadata": {},
   "outputs": [
    {
     "name": "stdout",
     "output_type": "stream",
     "text": [
      "nome=vic\n",
      "sei troppo bello,  vic !\n",
      "sei troppo bello,  vic !\n",
      "sei troppo bello,  vic !\n",
      "sei troppo bello,  vic !\n",
      "sei troppo bello,  vic !\n",
      "sei troppo bello,  vic !\n",
      "sei troppo bello,  vic !\n"
     ]
    }
   ],
   "source": [
    "# primo ciclo for\n",
    "name = input(\"nome=\")\n",
    "for i in range(7): # in range (7) cioe lo ripetera 7 volte.\n",
    "     print(\"sei troppo bello, \", name, \"!\")"
   ]
  },
  {
   "cell_type": "markdown",
   "id": "fe4a62b4",
   "metadata": {},
   "source": [
    "# ESEMPI DI CALCOLATRICE #"
   ]
  },
  {
   "cell_type": "code",
   "execution_count": 12,
   "id": "0adefb10",
   "metadata": {},
   "outputs": [
    {
     "name": "stdout",
     "output_type": "stream",
     "text": [
      "Inserisci il primo numero (num1): 55\n",
      "Inserisci il secondo numero (num2): 66\n",
      "La somma dei due numeri è: 121\n",
      "La sottrazione dei due numeri è: -11\n",
      "La moltiplicazione dei due numeri è: 3630\n",
      "La divisione dei due numeri è: 0.8333333333333334\n"
     ]
    }
   ],
   "source": [
    "# Richiede all'utente di inserire il primo numero e lo converte in intero\n",
    "num1 = int(input(\"Inserisci il primo numero (num1): \"))\n",
    "\n",
    "# Richiede all'utente di inserire il secondo numero e lo converte in intero\n",
    "num2 = int(input(\"Inserisci il secondo numero (num2): \"))\n",
    "\n",
    "# Esegue la somma dei due numeri inseriti dall'utente e la memorizza nella variabile somma\n",
    "somma = num1 + num2\n",
    "# Visualizza il risultato della somma\n",
    "print(\"La somma dei due numeri è:\", somma)\n",
    "\n",
    "# Esegue la sottrazione dei due numeri inseriti dall'utente e la memorizza nella variabile sottrazione\n",
    "sottrazione = num1 - num2\n",
    "# Visualizza il risultato della sottrazione\n",
    "print(\"La sottrazione dei due numeri è:\", sottrazione)\n",
    "\n",
    "# Esegue la moltiplicazione dei due numeri inseriti dall'utente e la memorizza nella variabile moltiplicazione\n",
    "moltiplicazione = num1 * num2\n",
    "# Visualizza il risultato della moltiplicazione\n",
    "print(\"La moltiplicazione dei due numeri è:\", moltiplicazione)\n",
    "\n",
    "# Verifica se il secondo numero inserito dall'utente è zero\n",
    "if num2 == 0:\n",
    "    # In caso affermativo, visualizza un messaggio di errore perché la divisione per zero non è permessa\n",
    "    print(\"Non è possibile dividere per zero!\")\n",
    "else:\n",
    "    # In caso contrario, esegue la divisione dei due numeri e la memorizza nella variabile divisione\n",
    "    divisione = num1 / num2\n",
    "    # Visualizza il risultato della divisione\n",
    "    print(\"La divisione dei due numeri è:\", divisione)"
   ]
  },
  {
   "cell_type": "code",
   "execution_count": 2,
   "id": "027755e6",
   "metadata": {},
   "outputs": [
    {
     "name": "stdout",
     "output_type": "stream",
     "text": [
      "num1: 33\n",
      "num2: 33\n",
      "il prodotto dei due numeri è  1089 !\n"
     ]
    }
   ],
   "source": [
    "# Chiede all'utente di inserire il primo numero\n",
    "num1 = int(input(\"num1: \"))\n",
    "# Chiede all'utente di inserire il secondo numero\n",
    "num2 = int(input(\"num2: \"))\n",
    "# Definisci la moltiplicazione\n",
    "moltiplicazione = num1 * num2\n",
    "# Stampa il risultato(prodotto)\n",
    "print(\"il prodotto dei due numeri è \", int(moltiplicazione), \"!\")"
   ]
  },
  {
   "cell_type": "code",
   "execution_count": 2,
   "id": "ff7d4fb8",
   "metadata": {},
   "outputs": [
    {
     "name": "stdout",
     "output_type": "stream",
     "text": [
      "Inserisci l'operazione (+, -, *, /): x\n",
      "Operazione non valida\n"
     ]
    }
   ],
   "source": [
    "# Richiede all'utente di inserire un'operazione e la assegna alla variabile \"operazione\"\n",
    "operazione = input(\"Inserisci l'operazione (+, -, *, /): \")\n",
    "\n",
    "# Controlla se l'operazione inserita è valida\n",
    "if not operazione in ['+', '-', '*', '/']:\n",
    "    print(\"Operazione non valida\")\n",
    "else: # Se l'input è nell'operazione:\n",
    "    # Richiede all'utente di inserire i numeri su cui eseguire l'operazione\n",
    "    num1 = float(input(\"Inserisci il primo numero: \"))\n",
    "    num2 = float(input(\"Inserisci il secondo numero: \"))\n",
    "\n",
    "    # Esegue l'operazione matematica appropriata in base all'input dell'utente\n",
    "    if operazione == \"+\":\n",
    "        risultato = num1 + num2  # Somma i due numeri\n",
    "    elif operazione == \"-\":\n",
    "        risultato = num1 - num2  # Sottrae il secondo numero dal primo\n",
    "    elif operazione == \"*\":\n",
    "        risultato = num1 * num2  # Moltiplica i due numeri\n",
    "    elif operazione == \"/\":\n",
    "        # Controlla se il divisore è zero prima di eseguire la divisione\n",
    "        if num2 == 0:\n",
    "            risultato = \"Non è possibile dividere per zero!\"\n",
    "        else:\n",
    "            risultato = num1 / num2  # Divide il primo numero per il secondo\n",
    "\n",
    "    # Mostra il risultato dell'operazione all'utente in un formato amichevole\n",
    "    print(f\"Il risultato di {num1} {operazione} {num2} è: {risultato}\")"
   ]
  },
  {
   "cell_type": "markdown",
   "id": "fa1c45fa",
   "metadata": {},
   "source": [
    "# CICLO FOR CON N #"
   ]
  },
  {
   "cell_type": "code",
   "execution_count": 8,
   "id": "e33a7790",
   "metadata": {},
   "outputs": [
    {
     "name": "stdout",
     "output_type": "stream",
     "text": [
      "inserisci un numero positivo; 2\n",
      "1\n",
      "2\n"
     ]
    }
   ],
   "source": [
    "# Chiede all'utente di inserire un numero positivo\n",
    "n = int(input(\"Inserisci un numero positivo: \"))\n",
    "\n",
    "# Controlla se l'input dell'utente è positivo o negativo.\n",
    "if n <= 0:\n",
    "    # Informa l'utente che il numero inserito non è valido\n",
    "    print(\"Per favore, inserisci un numero positivo.\")\n",
    "else: # Se il numero è positivo:\n",
    "    # Itera su una serie di numeri dal 1 fino a \"n\" incluso\n",
    "    for numero in range(1, n+1):\n",
    "        # Verifica se il \"numero\" corrente è pari\n",
    "        if numero % 2 == 0:\n",
    "            # Stampa un messaggio informando che il \"numero\" è pari\n",
    "            print(f\"{numero} è un numero pari.\")\n",
    "        else:\n",
    "            # Stampa un messaggio informando che il \"numero\" è dispari\n",
    "            print(f\"{numero} è un numero dispari.\")"
   ]
  },
  {
   "cell_type": "code",
   "execution_count": 5,
   "id": "60b849b1",
   "metadata": {},
   "outputs": [
    {
     "name": "stdout",
     "output_type": "stream",
     "text": [
      "inserisci un numero intero positivo: 1\n",
      "la somma dei primi 1 numeri interi è 1\n"
     ]
    }
   ],
   "source": [
    "# Chiede all'utente di inserire un numero intero positivo e lo assegna alla variabile n\n",
    "n = int(input(\"inserisci un numero intero positivo: \"))\n",
    "# Inizializza una variabile somma a 0 per tener traccia della somma corrente dei numeri\n",
    "somma = 0 \n",
    "\n",
    "# Itera da 1 a n (compreso) e aggiunge ogni numero alla somma\n",
    "for numero in range(1, n+1):  # l'uso di n+1 nel range garantisce che n sia incluso nell'iterazione\n",
    "    somma += numero  # somma = somma + numero. Aggiunge il numero corrente al totale della somma\n",
    "\n",
    "# Stampa la somma finale dei primi n numeri interi\n",
    "print(\"la somma dei primi\", n, \"numeri interi è\", somma)"
   ]
  },
  {
   "cell_type": "markdown",
   "id": "871dd895",
   "metadata": {},
   "source": [
    "# QUADRATO DEI NUMERI # \n"
   ]
  },
  {
   "cell_type": "code",
   "execution_count": 7,
   "id": "2eef59d4",
   "metadata": {},
   "outputs": [
    {
     "name": "stdout",
     "output_type": "stream",
     "text": [
      "inserisci un numero intero positivo: 2\n",
      "quadrati dei primi 2 numeri: \n",
      "il quadrato di 1 è 1\n",
      "il quadrato di 2 è 4\n"
     ]
    }
   ],
   "source": [
    "# Chiede all'utente di inserire un numero intero positivo e lo assegna alla variabile n\n",
    "n = int(input(\"inserisci un numero intero positivo: \"))\n",
    "\n",
    "print(\"quadrati dei primi\", n, \"numeri: \")\n",
    "\n",
    "# Crea un ciclo che va da 1 a n (incluso) e calcola e stampa il quadrato di ogni numero nel range\n",
    "for numero in range(1, n+1):  # il +1 è necessario per includere n nel ciclo\n",
    "    quadrato = numero ** 2  # Calcola il quadrato del numero\n",
    "    # Stampa il numero e il suo quadrato in un formato leggibile\n",
    "    print(\"il quadrato di\", numero, \"è\", quadrato)"
   ]
  },
  {
   "cell_type": "markdown",
   "id": "2b63f982",
   "metadata": {},
   "source": [
    "# VERIFICA DI PARITA #"
   ]
  },
  {
   "cell_type": "code",
   "execution_count": 11,
   "id": "4be08f0b",
   "metadata": {},
   "outputs": [
    {
     "name": "stdout",
     "output_type": "stream",
     "text": [
      "inserisci un numero: 10\n",
      "10 è un numero pari\n"
     ]
    }
   ],
   "source": [
    "# Richiesta di inserimento di un numero all'utente.\n",
    "numero = int(input(\"inserisci un numero: \"))\n",
    "\n",
    "# Controllo se il numero è pari o dispari usando l'operatore (%). \n",
    "# % fornisce il resto della divisione tra numero e 2.\n",
    "# Se il resto è 0, il numero è pari; altrimenti, è dispari.\n",
    "if numero % 2 == 0:  \n",
    "    print(numero, \"è un numero pari\")\n",
    "else:\n",
    "    print(numero, \"non è un numero pari, è dispari\")"
   ]
  },
  {
   "cell_type": "markdown",
   "id": "12994618",
   "metadata": {},
   "source": [
    "# CALCOLARE IL FATTORIALE #"
   ]
  },
  {
   "cell_type": "code",
   "execution_count": 3,
   "id": "8d283e20",
   "metadata": {},
   "outputs": [
    {
     "name": "stdout",
     "output_type": "stream",
     "text": [
      "inserisci un numero positivo: 23\n",
      "Il fattoriale di 23 è 25852016738884976640000\n"
     ]
    }
   ],
   "source": [
    "# Chiede all'utente di inserire un numero\n",
    "numero = int(input(\"inserisci un numero positivo: \"))\n",
    "\n",
    "# Inizializza una variabile per il fattoriale con il valore 1\n",
    "fattoriale = 1\n",
    "\n",
    "# Controlla se il numero inserito è negativo\n",
    "if numero < 0:\n",
    "    print(\"Il fattoriale non è definito per numeri negativi.\")\n",
    "# Controlla se il numero inserito è zero\n",
    "elif numero == 0:\n",
    "    print(\"Il fattoriale di 0 è 1.\")\n",
    "else:\n",
    "    # Utilizza un ciclo for per calcolare il fattoriale del numero inserito\n",
    "    for i in range(1, numero + 1):\n",
    "        fattoriale *= i # moltiplica il fattoriale corrente per i\n",
    "    # Stampa il fattoriale calcolato\n",
    "    print(f\"Il fattoriale di {numero} è {fattoriale}\")"
   ]
  },
  {
   "cell_type": "markdown",
   "id": "014c61b1",
   "metadata": {},
   "source": [
    "# COME CALCOLARE LA MEDIA #"
   ]
  },
  {
   "cell_type": "code",
   "execution_count": 3,
   "id": "50b659b6",
   "metadata": {},
   "outputs": [
    {
     "name": "stdout",
     "output_type": "stream",
     "text": [
      "Quanti numeri vuoi inserire?: 2\n",
      "Inserisci un numero: 33\n",
      "Inserisci un numero: 22\n",
      "La media dei numeri inseriti è:  27.5\n"
     ]
    }
   ],
   "source": [
    "numeri = [] # Creamo una lista vuota\n",
    "n = int(input(\"Quanti numeri vuoi inserire?: \"))# Chiediamo all'utente quanti numeri vuole inserire nella lista\n",
    "for i in  range(n):\n",
    "    # Ad ogni iterazione \n",
    "    numero = float(input(\"Inserisci un numero: \"))\n",
    "    numeri.append(numero) # append serve per riempire le liste.\n",
    "media = sum(numeri) / len(numeri) # sum è la somma di tutti i numeri, len sarebbe lunghezza cioe quanti elementi ci sono nella lista\n",
    "print(\"La media dei numeri inseriti è: \", media)"
   ]
  },
  {
   "cell_type": "markdown",
   "id": "136907c2",
   "metadata": {},
   "source": [
    "# GIOCO DELL'INDOVINELLO #"
   ]
  },
  {
   "cell_type": "code",
   "execution_count": 8,
   "id": "62bb6832",
   "metadata": {},
   "outputs": [
    {
     "name": "stdout",
     "output_type": "stream",
     "text": [
      "Indovina il numero da 1 a 100: 44\n",
      "il numero è piu grande\n",
      "Indovina il numero da 1 a 100: 65\n",
      "il numero è piu grande\n",
      "Indovina il numero da 1 a 100: 77\n",
      "il numero è piu grande\n",
      "Indovina il numero da 1 a 100: 88\n",
      "il numero è piu piccolo\n",
      "Indovina il numero da 1 a 100: 87\n",
      "il numero è piu piccolo\n",
      "Indovina il numero da 1 a 100: 86\n",
      "il numero è piu piccolo\n",
      "Indovina il numero da 1 a 100: 85\n",
      "Bravo hai indovinato il numero! 85 in 7 tentativi!\n"
     ]
    }
   ],
   "source": [
    "# Importa la libreria random per generare un numero casuale\n",
    "import random\n",
    "\n",
    "# Genera un numero casuale tra 1 e 100\n",
    "numero_da_indovinare = random.randint(1, 100)\n",
    "\n",
    "# Inizializza il contatore dei tentativi\n",
    "tentativi = 0\n",
    "\n",
    "# Inizia un ciclo infinito\n",
    "while True: \n",
    "    # Chiede all'utente di inserire un numero e incrementa il contatore dei tentativi\n",
    "    tentativo = int(input(\"Indovina il numero da 1 a 100: \"))\n",
    "    tentativi += 1\n",
    "\n",
    "    # Controlla se il numero inserito è quello da indovinare\n",
    "    if tentativo == numero_da_indovinare:\n",
    "        print(\"Bravo hai indovinato il numero\", numero_da_indovinare, \"in\", tentativi, \"tentativi!\")\n",
    "        break  # Esci dal ciclo se il numero è corretto\n",
    "    elif tentativo < numero_da_indovinare: # se il tentativo è piu piccoolo del numero da indovinare, stampa :\n",
    "        print(\"Il numero è più grande\")\n",
    "    else:\n",
    "        print(\"Il numero è più piccolo\") # se il tentativo è piu grande del numero da indovinare, stampa :"
   ]
  },
  {
   "cell_type": "markdown",
   "id": "ed051562",
   "metadata": {},
   "source": [
    "# GIOCO DELLA MORRA CINESE #"
   ]
  },
  {
   "cell_type": "code",
   "execution_count": 7,
   "id": "847892e5",
   "metadata": {},
   "outputs": [
    {
     "name": "stdout",
     "output_type": "stream",
     "text": [
      "Benvenuti al gioco della morra cinese!\n",
      "Scegli la tua mossa (carta, forbice, sasso): sasso\n",
      "il computer ha scelto: carta\n",
      "Hai perso!\n"
     ]
    }
   ],
   "source": [
    "# Importa la libreria random per generare una mossa casuale per il computer\n",
    "import random\n",
    "\n",
    "# Creiamo Una lista delle mosse possibili nel gioco\n",
    "mosse = [\"carta\", \"forbice\", \"sasso\"]\n",
    "\n",
    "# Il computer sceglie una mossa in modo casuale dalla lista delle mosse\n",
    "computer_mossa = random.choice(mosse) #.choice server per scegliere casualmente in mezzo ad una lista(in questo caso)\n",
    "\n",
    "# Stampa un messaggio di benvenuto\n",
    "print(\"Benvenuti al gioco della morra cinese!\")\n",
    "\n",
    "# Il giocatore sceglie una mossa\n",
    "scelta_giocatore = input(\"Scegli la tua mossa (carta, forbice, sasso): \")\n",
    "\n",
    "# Controlla se la mossa del giocatore è valida\n",
    "if scelta_giocatore not in mosse:\n",
    "    print(\"Errore, mossa non valida!\")\n",
    "else:\n",
    "    # Mostra la mossa scelta dal computer\n",
    "    print(\"Il computer ha scelto:\", computer_mossa)\n",
    "    \n",
    "    # Controllo chi ha vinto\n",
    "    # Se le mosse sono uguali, è un pareggio\n",
    "    if scelta_giocatore == computer_mossa:\n",
    "        print(\"Pareggio!\")\n",
    "    # Condizioni in cui il giocatore vince\n",
    "    elif (\n",
    "        (scelta_giocatore == \"carta\" and computer_mossa == \"sasso\") or \n",
    "        (scelta_giocatore == \"forbice\" and computer_mossa == \"carta\") or \n",
    "        (scelta_giocatore == \"sasso\" and computer_mossa == \"forbice\")\n",
    "    ):\n",
    "        print(\"Hai vinto!\")\n",
    "    # Se non è un pareggio e il giocatore non ha vinto, il giocatore perde\n",
    "    else:\n",
    "        print(\"Hai perso!\")"
   ]
  },
  {
   "cell_type": "markdown",
   "id": "99a79952",
   "metadata": {},
   "source": [
    "# SOMMA DEI PRIMI N NUMERI PARI #"
   ]
  },
  {
   "cell_type": "code",
   "execution_count": 3,
   "id": "227cccac",
   "metadata": {},
   "outputs": [
    {
     "name": "stdout",
     "output_type": "stream",
     "text": [
      "inserisci un numero intero positivo n: 5\n",
      "La somma dei primi 5 numeri pari è 30\n"
     ]
    }
   ],
   "source": [
    "# Chiede all'utente di inserire un numero\n",
    "N = int(input(\"inserisci un numero intero positivo n: \"))\n",
    "# Definiamo la somma\n",
    "somma = 0\n",
    "\n",
    "for numero in range(2, 2 * N + 1, 2): # parte da 2, e poi fa n con passo 2, se vogli i numeri dispari parto con 1\n",
    "    somma += numero # += cioe ogni nuovo valore sara uguale al vecchio piu il nuovo.\n",
    "# Stampa la somma dei primi n numeri pari\n",
    "print(f\"La somma dei primi {N} numeri pari è {somma}\")"
   ]
  },
  {
   "cell_type": "code",
   "execution_count": 6,
   "id": "9d8055df",
   "metadata": {},
   "outputs": [
    {
     "name": "stdout",
     "output_type": "stream",
     "text": [
      "Inserisci un numero intero positivo n: 5\n",
      "[2, 4, 6, 8, 10]\n"
     ]
    }
   ],
   "source": [
    "# Chiede all'utente di inserire un numero intero positivo N\n",
    "N = int(input(\"Inserisci un numero intero positivo n: \"))\n",
    "\n",
    "# Inizializza una lista vuota che conterrà i numeri pari\n",
    "lista = []\n",
    "\n",
    "# Utilizza un ciclo for per iterare su una sequenza di numeri\n",
    "# Il range va da 2 a 2N, incrementando di 2 ad ogni passo, per selezionare solo numeri pari\n",
    "for numero in range(2, 2 * N + 1, 2):\n",
    "    # Aggiunge il numero corrente alla lista\n",
    "    lista.append(numero)\n",
    "\n",
    "# Stampa la lista contenente i primi N numeri pari\n",
    "print(lista)"
   ]
  },
  {
   "cell_type": "markdown",
   "id": "3330624c",
   "metadata": {},
   "source": [
    "# GIOCO DEL DADO #"
   ]
  },
  {
   "cell_type": "code",
   "execution_count": 11,
   "id": "1e7b1851",
   "metadata": {},
   "outputs": [
    {
     "name": "stdout",
     "output_type": "stream",
     "text": [
      "indovina il numero: 4\n",
      "Hai indovinato!, il numero era 4\n"
     ]
    }
   ],
   "source": [
    "# Importa il libreria random per generare numeri casuali\n",
    "import random\n",
    "\n",
    "# Genera un numero casuale tra 1 e 6, compresi\n",
    "numero_dado = random.randint(1,6)\n",
    "\n",
    "# Chiede all'utente di inserire un numero\n",
    "indovina = int(input(\"Indovina il numero: \"))\n",
    "\n",
    "# Controlla se il numero inserito è uguale al numero generato casualmente\n",
    "if indovina == numero_dado:\n",
    "    # Informa l'utente che ha indovinato il numero\n",
    "    print(f\"Hai indovinato!, il numero era {numero_dado}\")\n",
    "# Controlla se il numero inserito non è compreso tra 1 e 6\n",
    "elif indovina < 1 or indovina > 6:\n",
    "    # Informa l'utente che il numero inserito non è valido\n",
    "    print(\"Errore\")\n",
    "else:\n",
    "    # Informa l'utente che non ha indovinato il numero e mostra il numero corretto\n",
    "    print(f\"Mi dispiace, il numero del dado era {numero_dado}\")"
   ]
  },
  {
   "cell_type": "markdown",
   "id": "912476c8",
   "metadata": {},
   "source": [
    "# CONTEGGIO VOCALI #"
   ]
  },
  {
   "cell_type": "code",
   "execution_count": 4,
   "id": "5d588733",
   "metadata": {},
   "outputs": [
    {
     "name": "stdout",
     "output_type": "stream",
     "text": [
      "inserisce una frase: ewf\n",
      "Nella frase inserita ci sono 1 vocali.\n"
     ]
    }
   ],
   "source": [
    "# Richiedere all'utente di inserire una frase\n",
    "frase = input(\"Inserisci una frase: \").lower() # .lower() Converte tutto in minuscolo per semplificare la verifica delle vocali\n",
    "\n",
    "# Inizializzazione del contatore delle vocali\n",
    "conteggio_vocali = 0\n",
    "\n",
    "# Stringa contenente tutte le vocali da controllare\n",
    "vocali = \"aàeèéiìoòuù\"\n",
    "\n",
    "# Ciclo attraverso ogni carattere della frase\n",
    "for carattere in frase: \n",
    "    # Controllo se il carattere è una vocale; se è vero, incremento il contatore\n",
    "    if carattere in vocali:\n",
    "        conteggio_vocali += 1\n",
    "\n",
    "# Stampa del risultato finale\n",
    "print(f\"Nella frase inserita ci sono {conteggio_vocali} vocali.\")"
   ]
  },
  {
   "cell_type": "code",
   "execution_count": 14,
   "id": "9633bfaf",
   "metadata": {},
   "outputs": [
    {
     "name": "stdout",
     "output_type": "stream",
     "text": [
      "inserisci la popolazione: 12\n",
      "inserisci l'anno: 3\n",
      "inserisci il tasso di natalita: 1.4\n",
      "inserisci il tasso di mortalita: 1.2\n",
      "Anno 1: Popolazione = 12\n",
      "Anno 2: Popolazione = 12\n",
      "Anno 3: Popolazione = 12\n",
      "Simulazione completata\n"
     ]
    }
   ],
   "source": [
    "# Chiede all'utente di inserire il numero di popolazione e anni\n",
    "popolazione = int(input(\"Inserisci la popolazione: \"))\n",
    "anni = int(input(\"Inserisci l'anno: \"))\n",
    "\n",
    "# Richiesta dei tassi di natalità e mortalità all'utente\n",
    "tasso_natalita = float(input(\"Inserisci il tasso di natalità: \"))\n",
    "tasso_mortalita = float(input(\"Inserisci il tasso di mortalità: \"))\n",
    "\n",
    "# In base agli anni inseriti dall'utente calcola le nascite etc...\n",
    "for anno in range(anni): \n",
    "    nascite = (popolazione * tasso_natalita) / 100  # calcolo delle nascite\n",
    "    morti = (popolazione * tasso_mortalita) / 100   # calcolo delle morti\n",
    "    popolazione += (nascite - morti)  # aggiornamento popolazione\n",
    "    \n",
    "    # Stampa delle informazioni annuali\n",
    "    print(f\"Anno {anno + 1}: Popolazione = {int(popolazione)}\") # anno +1 così parte dall'anno 1 invece che anno 0\n",
    "    \n",
    "# Messaggio di completamento simulazione\n",
    "print(\"Simulazione completata\")"
   ]
  },
  {
   "cell_type": "markdown",
   "id": "9c333a89",
   "metadata": {},
   "source": [
    "# DATETIME #"
   ]
  },
  {
   "cell_type": "code",
   "execution_count": 23,
   "id": "81345e61",
   "metadata": {},
   "outputs": [
    {
     "name": "stdout",
     "output_type": "stream",
     "text": [
      " 28 09 2023\n"
     ]
    }
   ],
   "source": [
    "# Importare la libreria datetime\n",
    "import datetime\n",
    "\n",
    "# Ottenere la data di oggi\n",
    "today = datetime.datetime.today()\n",
    "\n",
    "# Stampare la data nel formato desiderato: gg mm aaaa\n",
    "print(today.strftime(\"%d %m %Y\"))"
   ]
  },
  {
   "cell_type": "code",
   "execution_count": 28,
   "id": "193026a1",
   "metadata": {},
   "outputs": [
    {
     "name": "stdout",
     "output_type": "stream",
     "text": [
      "Benvenuti nel programma di conversione di unità di misura!\n",
      "Cosa desideri convertire? (metri/piedi/chilogrammi/libbre)libbre\n",
      "Scelta non valida\n"
     ]
    }
   ],
   "source": [
    "# Stampa un messaggio di benvenuto e chiede all'utente cosa vuole convertire\n",
    "print(\"Benvenuti nel programma di conversione di unità di misura!\")\n",
    "scelta = input(\"Cosa desideri convertire? (metri/piedi/chilogrammi/libbre)\").lower()\n",
    "\n",
    "# Verifica la scelta dell'utente e procede con la conversione appropriata\n",
    "if scelta == \"metri\": \n",
    "    # Chiede all'utente di inserire il valore in metri\n",
    "    valore = float(input(\"Inserisci il valore in metri: \"))\n",
    "    # Converte metri in piedi e stampa il risultato\n",
    "    risultato = valore * 3.28084\n",
    "    print(f\"{valore} metri corrispondono a {risultato} piedi.\")\n",
    "\n",
    "elif scelta == \"piedi\":\n",
    "    # Chiede all'utente di inserire il valore in piedi\n",
    "    valore = float(input(\"Inserisci il valore in piedi: \"))\n",
    "    # Converte piedi in metri e stampa il risultato\n",
    "    risultato = valore * 0.3048\n",
    "    print(f\"{valore} piedi corrispondono a {risultato} metri.\")\n",
    "\n",
    "elif scelta == \"chilogrammi\":\n",
    "    # Chiede all'utente di inserire il valore in chilogrammi\n",
    "    valore = float(input(\"Inserisci il valore in chilogrammi: \"))\n",
    "    # Converte chilogrammi in libbre e stampa il risultato\n",
    "    risultato = valore * 2.20462\n",
    "    print(f\"{valore} chilogrammi corrispondono a {risultato} libbre.\")\n",
    "\n",
    "elif scelta == \"libbre\":\n",
    "    # Chiede all'utente di inserire il valore in libbre\n",
    "    valore = float(input(\"Inserisci il valore in libbre: \"))\n",
    "    # Converte libbre in chilogrammi e stampa il risultato\n",
    "    risultato = valore * 0.453592\n",
    "    print(f\"{valore} libbre corrispondono a {risultato} chilogrammi.\")\n",
    "\n",
    "else:\n",
    "    # Informa l'utente che la scelta non è valida\n",
    "    print(\"Scelta non valida\")"
   ]
  },
  {
   "cell_type": "code",
   "execution_count": 3,
   "id": "1f074409",
   "metadata": {},
   "outputs": [
    {
     "name": "stdout",
     "output_type": "stream",
     "text": [
      "inserisci un numero n per calcolare l'n esimo numero di fibonacci: 2\n",
      "il'2 esemio numero di fibonacci è 1\n"
     ]
    }
   ],
   "source": [
    "# Chiedere all'utente di inserire un numero n per calcolare l'n-esimo numero della sequenza di Fibonacci.\n",
    "n = int(input(\"Inserisci un numero n per calcolare l'n-esimo numero di Fibonacci: \"))\n",
    "\n",
    "# Inizializzazione delle variabili che conterranno i valori nella sequenza di Fibonacci.\n",
    "a = 0  # Il primo numero nella sequenza di Fibonacci.\n",
    "b = 1  # Il secondo numero nella sequenza di Fibonacci.\n",
    "c = a + b\n",
    "# Controllo dell'input dell'utente.\n",
    "if n <= 0:\n",
    "    print(\"Il numero deve essere maggiore di 0.\")\n",
    "elif n == 1:\n",
    "    # Se n è 1, l'n-esimo numero nella sequenza di Fibonacci è 0.\n",
    "    risultato = 0\n",
    "else:\n",
    "    # Calcolo dell'n-esimo numero nella sequenza di Fibonacci usando un ciclo for.\n",
    "    for iterazione in range(n-3):\n",
    "        c = a + b  # Il nuovo numero nella sequenza è la somma dei due precedenti.\n",
    "        # Aggiornamento delle variabili per il prossimo ciclo.\n",
    "        a = b  # Sposta il secondo numero nel primo per il prossimo ciclo.\n",
    "        b = c  # Sposta il nuovo numero nel secondo per il prossimo ciclo.\n",
    "    # L'n-esimo numero nella sequenza di Fibonacci è il valore corrente di c.\n",
    "    risultato = c\n",
    "    \n",
    "# Stampa dell'n-esimo numero nella sequenza di Fibonacci.\n",
    "print (f\"Il {n}-esimo numero di Fibonacci è {risultato}\")"
   ]
  },
  {
   "cell_type": "markdown",
   "id": "35d37d2d",
   "metadata": {},
   "source": [
    "# FUNZIONI CUSTOM #"
   ]
  },
  {
   "cell_type": "code",
   "execution_count": 1,
   "id": "c9f307e6",
   "metadata": {},
   "outputs": [
    {
     "name": "stdout",
     "output_type": "stream",
     "text": [
      "3\n"
     ]
    }
   ],
   "source": [
    "# Definizione di una funzione denominata acquapanna.\n",
    "def acquapanna():\n",
    "    # La funzione restituisce la somma di 1 + 2.\n",
    "    return 1 + 2\n",
    "\n",
    "# La funzione 'acquapanna' viene chiamata e il suo risultato è assegnato alla variabile 'result'.\n",
    "result = acquapanna()\n",
    "\n",
    "# La variabile 'result' (che ora ha il valore 3) viene stampata.\n",
    "print(result)"
   ]
  },
  {
   "cell_type": "code",
   "execution_count": 4,
   "id": "1d04f963",
   "metadata": {},
   "outputs": [
    {
     "name": "stdout",
     "output_type": "stream",
     "text": [
      "Inserisci il numero di termini della serie di fibonacci da generare: 10\n",
      "[0, 1, 1, 2, 3, 5, 8, 13, 21, 34]\n"
     ]
    }
   ],
   "source": [
    "# Definizione della funzione fibonacci che genera una serie di Fibonacci di lunghezza n.\n",
    "def fibonacci(n):\n",
    "    # Inizializza la serie di Fibonacci con i primi due numeri.\n",
    "    fib_series = [0, 1]\n",
    "    \n",
    "    # Continua ad aggiungere numeri alla serie finché non raggiunge la lunghezza desiderata n.\n",
    "    while len(fib_series) < n:\n",
    "        # Aggiungi alla serie il numero che è la somma degli ultimi due numeri della serie.\n",
    "        fib_series.append(fib_series[-1] + fib_series [-2]) # l'ultimo elemento della serie, meno il penultimo elemento della serie\n",
    "    \n",
    "    # Restituisce la serie di Fibonacci completa.\n",
    "    return fib_series\n",
    "    \n",
    "# Chiede all'utente di inserire il numero di termini desiderato per la serie di Fibonacci.\n",
    "n = int(input(\"Inserisci il numero di termini della serie di fibonacci da generare: \"))\n",
    "\n",
    "# Controlla se il numero inserito è valido cioè maggiore di 0\n",
    "if n <= 0:\n",
    "    print(\"Inserisci un numero positivo.\")\n",
    "else:\n",
    "    # Chiama la funzione fibonacci e stampa il risultato.\n",
    "    result = fibonacci(n)\n",
    "    print(result)"
   ]
  },
  {
   "cell_type": "code",
   "execution_count": 5,
   "id": "89f202f2",
   "metadata": {},
   "outputs": [
    {
     "name": "stdout",
     "output_type": "stream",
     "text": [
      "Benvenuto nella calcolatrice dell'area!\n",
      "Vuoi calcolare l'area di un cerchio (c), del rettangolo (r), del triangolo (t) o del quadrato (q)? r\n",
      "Inserisci la base del rettangolo: 2\n",
      "Inserisci l'altezza del rettangolo: 3\n",
      "L'area del rettangolo è 6.00\n"
     ]
    }
   ],
   "source": [
    "# Importa il modulo math\n",
    "import math\n",
    "\n",
    "# Definisce una funzione che calcola l'area di un cerchio dato il suo raggio.\n",
    "def calcola_area_cerchio(raggio):\n",
    "    return math.pi * (raggio ** 2)  # Utilizza la formula dell'area del cerchio e ritorna il risultato.\n",
    "\n",
    "# Definisce una funzione che calcola l'area di un rettangolo data la base e l'altezza.\n",
    "def calcola_area_rettangolo(base, altezza):\n",
    "    return base * altezza  # Utilizza la formula dell'area del rettangolo e ritorna il risultato.\n",
    "\n",
    "# Definisce una funzione che calcola l'area di un triangolo data la base e l'altezza.\n",
    "def calcola_area_triangolo(base, altezza):\n",
    "    return base * altezza / 2  # Utilizza la formula dell'area del triangolo e ritorna il risultato.\n",
    "\n",
    "# Definisce una funzione che calcola l'area di un quadrato dato il lato.\n",
    "def calcola_area_quadrato(lato):\n",
    "    return lato * lato  # Utilizza la formula dell'area del quadrato e ritorna il risultato.\n",
    "\n",
    "# Stampa un messaggio di benvenuto all'utente.\n",
    "print(\"Benvenuto nella calcolatrice dell'area!\")\n",
    "\n",
    "# Chiede all'utente di scegliere tra diverse opzioni\n",
    "scelta = input(\"Vuoi calcolare l'area di un cerchio (c), del rettangolo (r), del triangolo (t) o del quadrato (q)? \")\n",
    "\n",
    "# In base alla scelta dell'utente: \n",
    "if scelta == \"c\":\n",
    "    raggio = float(input(\"Inserisci il raggio del cerchio: \"))  # Richiede il raggio del cerchio.\n",
    "    area = calcola_area_cerchio(raggio)  # Chiama la funzione e assegna il risultato alla variabile area.\n",
    "    # Stampa il risultato con due cifre decimali.\n",
    "    print(f\"L'area del cerchio è {area:.2f}\")  #:.2f vuol dire almeno 2 cifre decimali\n",
    "elif scelta == \"r\":\n",
    "    base = float(input(\"Inserisci la base del rettangolo: \"))  # Richiede la base del rettangolo.\n",
    "    altezza = float(input(\"Inserisci l'altezza del rettangolo: \"))  # Richiede l'altezza del rettangolo.\n",
    "    area = calcola_area_rettangolo(base, altezza)  # Chiama la funzione e assegna il risultato alla variabile area.\n",
    "    print(f\"L'area del rettangolo è {area:.2f}\")  # Stampa il risultato.\n",
    "elif scelta == \"t\":\n",
    "    base = float(input(\"Inserisci la base del triangolo: \"))  # Richiede la base del triangolo.\n",
    "    altezza = float(input(\"Inserisci l'altezza del triangolo: \"))  # Richiede l'altezza del triangolo.\n",
    "    area = calcola_area_triangolo(base, altezza)  # Chiama la funzione e assegna il risultato alla variabile area.\n",
    "    print(f\"L'area del triangolo è {area:.2f}\")  # Stampa il risultato.\n",
    "elif scelta == \"q\":\n",
    "    lato = float(input(\"Inserisci la misura del lato: \"))  # Richiede il lato del quadrato.\n",
    "    area = calcola_area_quadrato(lato)  # Chiama la funzione e assegna il risultato alla variabile area.\n",
    "    print(f\"L'area del quadrato è: {area:.2f}\")  # Stampa il risultato."
   ]
  },
  {
   "cell_type": "code",
   "execution_count": 6,
   "id": "422a1d49",
   "metadata": {},
   "outputs": [
    {
     "name": "stdout",
     "output_type": "stream",
     "text": [
      "Benvenuto al calcolatore di interessi!\n",
      "Inserisci L'importo iniziale: 3\n",
      "Inserisci il tasso di interesse annuale(%): 2\n",
      "Inserisci il periodo di investimento (anni): 1\n",
      "L'importo finale è 3.06\n"
     ]
    }
   ],
   "source": [
    "# Definizione della funzione calcolainteressi\n",
    "def calcola_interessi(importo_iniziale, tasso_interesse, periodi_investimento):\n",
    "    # Calcola l'importo finale utilizzando la formula per l'interesse composto e restituisce il risultato.\n",
    "    importo_finale = importo_iniziale * (1 + tasso_interesse/100) ** periodi_investimento\n",
    "    return importo_finale\n",
    "\n",
    "# Stampa un messaggio di benvenuto all'utente.\n",
    "print(\"Benvenuto al calcolatore di interessi!\")\n",
    "\n",
    "# Richiede all'utente di inserire l'importo iniziale dell'investimento e lo converte in un float.\n",
    "importo_iniziale = float(input(\"Inserisci L'importo iniziale: \"))\n",
    "\n",
    "# Richiede all'utente di inserire il tasso di interesse annuale e lo converte in un float.\n",
    "tasso_interesse = float(input(\"Inserisci il tasso di interesse annuale(%): \"))\n",
    "\n",
    "# Richiede all'utente di inserire il periodo dell'investimento (in anni) e lo converte in un float.\n",
    "periodi_investimento = float(input(\"Inserisci il periodo di investimento (anni): \"))\n",
    "\n",
    "# Chiama la funzione calcola_interessi e assegna il valore restituito alla variabile importo_finale.\n",
    "importo_finale = calcola_interessi(importo_iniziale, tasso_interesse, periodi_investimento)\n",
    "\n",
    "# Stampa l'importo finale calcolato.\n",
    "print(f\"L'importo finale è {importo_finale}\")"
   ]
  },
  {
   "cell_type": "code",
   "execution_count": 9,
   "id": "aadb96ac",
   "metadata": {},
   "outputs": [
    {
     "name": "stdout",
     "output_type": "stream",
     "text": [
      "Forza gravitazionale fra terra e luna: 1.978014482074582e+20 Newton\n"
     ]
    }
   ],
   "source": [
    "# Definizione della funzione che calcola la forza gravitazionale tra due masse.\n",
    "def forza_gravitazionale(m1, m2, r):\n",
    "    # Costante gravitazionale universale\n",
    "    G = 6.67e-11  \n",
    "    \n",
    "    # Formula per calcolare la forza gravitazionale tra due oggetti con masse m1 e m2 e separati da una distanza r.\n",
    "    F = (G * m1 * m2) / (r ** 2)  \n",
    "    \n",
    "    # La funzione restituisce il valore calcolato della forza.\n",
    "    return F  \n",
    "    \n",
    "# Massa della Terra in chilogrammi.\n",
    "massa_terra = 5.97e24   \n",
    "\n",
    "# Massa della Luna in chilogrammi.\n",
    "massa_luna = 7.34e22   \n",
    "\n",
    "# Distanza media tra Terra e Luna in metri.\n",
    "distanza_terra_luna = 384400000   \n",
    "\n",
    "# Chiamata alla funzione forza_gravitazionale con i parametri specificati: massa della Terra, massa della Luna e distanza tra di loro.\n",
    "# Il valore restituito (la forza gravitazionale calcolata) viene assegnato alla variabile 'forza'.\n",
    "forza = forza_gravitazionale(massa_terra, massa_luna, distanza_terra_luna)  \n",
    "\n",
    "# Stampa del risultato in un formato leggibile, espresso in Newton.\n",
    "print(f\"Forza gravitazionale fra terra e luna: {forza} Newton\")"
   ]
  },
  {
   "cell_type": "code",
   "execution_count": 14,
   "id": "9d6dedb1",
   "metadata": {},
   "outputs": [
    {
     "name": "stdout",
     "output_type": "stream",
     "text": [
      "Benvenuto al Risolutore di anagrammi!\n",
      "Inserisci una parola: oi\n",
      "io\n",
      "Gli anagrammi di 'oi' sono: '1\n"
     ]
    }
   ],
   "source": [
    "# Importa permutations da itertools.\n",
    "from itertools import permutations\n",
    "\n",
    "# Inizializza un contatore k a 0. Questa variabile sarà utilizzata per contare gli anagrammi trovati.\n",
    "k = 0\n",
    "\n",
    "# Funzione che trova tutti gli anagrammi possibili di una parola e li restituisce come una lista.\n",
    "def trova_anagrammi(parola):\n",
    "    # Crea una lista di anagrammi generando tutte le possibili permutazioni della parola e unendole in stringhe.\n",
    "    anagrammi = [''.join(p) for p in permutations(parola)]\n",
    "    return anagrammi\n",
    "\n",
    "# Stampa un messaggio di benvenuto.\n",
    "print(\"Benvenuto al Risolutore di anagrammi!\")\n",
    "\n",
    "# Chiedi all'utente di inserire una parola, rimuovendo spazi bianchi all'inizio e alla fine e convertendola in minuscolo.\n",
    "parola_input = input(\"Inserisci una parola: \").strip().lower() #.strip() rimuove tutti gli spazzi\n",
    "\n",
    "# Controlla se la parola inserita ha meno di 2 caratteri. se si, stampa un messaggio di errore.\n",
    "if len(parola_input) < 2:\n",
    "    print(\"Inserisci una parola con almeno 2 caratteri!\")\n",
    "else:\n",
    "    # Ottieni tutti gli anagrammi della parola inserita.\n",
    "    anagrammi = trova_anagrammi(parola_input)\n",
    "    \n",
    "    # Itera attraverso la lista di anagrammi.\n",
    "    for anagramma in anagrammi:\n",
    "        # Si assicura che l'anagramma non sia identico alla parola originale.\n",
    "        if anagramma != parola_input:\n",
    "            # Incrementa il contatore k di 1.\n",
    "            k += 1\n",
    "            # Stampa l'anagramma.\n",
    "            print(anagramma)\n",
    "    # Stampa il numero totale di anagrammi trovati.\n",
    "    print(f\"Gli anagrammi di '{parola_input}' sono: '{k}'\")"
   ]
  },
  {
   "cell_type": "code",
   "execution_count": 26,
   "id": "788d35d4",
   "metadata": {},
   "outputs": [
    {
     "name": "stdout",
     "output_type": "stream",
     "text": [
      "Inserisci l'importo da convertire: 1000\n",
      "Inserisci la valuta di partenza: euro\n",
      "Inserisci la valuta di destinazione: dollari\n",
      "1000.0 euro sono equivalenti a 1176.47 dollari\n"
     ]
    }
   ],
   "source": [
    "# Dizionario contenente i tassi di cambio rispetto al dollaro USA.\n",
    "# La chiave è il nome della valuta e il valore è il tasso di cambio.\n",
    "tassi_di_cambio = {\n",
    "        \"dollari\": 1.0,\n",
    "        \"euro\": 0.85,\n",
    "        \"yen\": 110.41,\n",
    "}\n",
    "\n",
    "# Chiede all'utente di inserire un importo da convertire e lo converte in un float\n",
    "importo = float(input(\"Inserisci l'importo da convertire: \"))\n",
    "\n",
    "# Chiede all'utente di inserire le valute di partenza e destinazione, convertendole in minuscolo per uniformità.\n",
    "valuta_di_partenza = input(\"Inserisci la valuta di partenza: \").lower()\n",
    "valuta_di_destinazione = input(\"Inserisci la valuta di destinazione: \").lower()\n",
    "\n",
    "# Verifica che entrambe le valute inserite siano presenti nel dizionario dei tassi di cambio.\n",
    "if valuta_di_partenza in tassi_di_cambio and valuta_di_destinazione in tassi_di_cambio:\n",
    "    # Calcola il tasso di cambio tra le due valute, dividendo il tasso di cambio della valuta di destinazione per quello della valuta di partenza.\n",
    "    tasso_di_cambio = tassi_di_cambio[valuta_di_destinazione] / tassi_di_cambio[valuta_di_partenza]\n",
    "    \n",
    "    # Converte l'importo nella valuta di destinazione moltiplicando l'importo originale per il tasso di cambio calcolato.\n",
    "    importo_convertito = importo * tasso_di_cambio\n",
    "    \n",
    "    # Stampa l'importo convertito, arrotondato a due decimali.\n",
    "    print(f\"{importo} {valuta_di_partenza} sono equivalenti a {importo_convertito:.2f} {valuta_di_destinazione}\")\n",
    "else:\n",
    "    # Stampa un messaggio di errore se una delle valute inserite non è supportata.\n",
    "    print(\"Valute non supportate\")"
   ]
  },
  {
   "cell_type": "markdown",
   "id": "c6caf1d0",
   "metadata": {},
   "source": [
    "# QUANTE LETTERE IN UNA FRASE? #"
   ]
  },
  {
   "cell_type": "code",
   "execution_count": null,
   "id": "53526eb8",
   "metadata": {},
   "outputs": [],
   "source": [
    "# Chiede all'utente di inserire una frase\n",
    "frase = input(\"Inserisci una frase: \").lower()\n",
    "\n",
    "# Stringa che contiene tutte le lettere dell'alfabeto, utilizzata come riferimento per il conteggio\n",
    "alfabeto = \"abcdefghijklmnopqrstuvwxyz\"\n",
    "\n",
    "# Creare il dizionario che terra il conteggio delle lettere\n",
    "conteggio_lettere = {}\n",
    "\n",
    "# Ciclo attraverso ogni lettera dell'alfabeto\n",
    "for lettera in alfabeto:\n",
    "    # Calcola quante volte la lettera appare nella frase utilizzando il metodo count\n",
    "    conteggio = frase.count(lettera)\n",
    "    \n",
    "    # Se la lettera appare almeno una volta, la aggiunge al dizionario con il relativo conteggio\n",
    "    if conteggio > 0:\n",
    "        conteggio_lettere[lettera] = conteggio\n",
    "        \n",
    "# Ciclo attraverso ogni coppia chiave-valore nel dizionario e stampa la lettera e il relativo conteggio\n",
    "for lettera, conteggio in conteggio_lettere.items():\n",
    "    print(f\"{lettera}: {conteggio}\") #f string, cosi da mettere le funzioni in una graffa."
   ]
  },
  {
   "cell_type": "markdown",
   "id": "4bdc5c1b",
   "metadata": {},
   "source": [
    "# FUSO ORARIO NEL MONDO #"
   ]
  },
  {
   "cell_type": "code",
   "execution_count": 3,
   "id": "457f36c7",
   "metadata": {},
   "outputs": [
    {
     "name": "stdout",
     "output_type": "stream",
     "text": [
      "Benvenuto nell'orologio mondiale!\n",
      "\n",
      "Città disponibili: \n",
      "New York\n",
      "Londra\n",
      "Tokyo\n",
      "Sydney\n",
      "Rio de Janeiro\n",
      "Mosca\n",
      "Pechino\n",
      "Delhi\n",
      "Berlino\n",
      "Città del Messico\n",
      "Johannesburg\n",
      "Dubai\n",
      "Singapore\n",
      "\n",
      "Inserisci il nome della città per visualizzare l'ora (o 'esci' per uscire): esci\n",
      "Arrivederci!\n"
     ]
    }
   ],
   "source": [
    "# Importazione delle librerie necessarie\n",
    "from datetime import datetime\n",
    "import pytz\n",
    "\n",
    "# Messaggio di benvenuto all'utente\n",
    "print(\"Benvenuto nell'orologio mondiale!\")\n",
    "\n",
    "# Dizionario che specifica il nome di alcune città al loro corrispondente fuso orario\n",
    "citta_fuso_orari = {\n",
    "    \"New York\": \"America/New_York\",\n",
    "    \"Londra\": \"Europe/London\",\n",
    "    \"Tokyo\": \"Asia/Tokyo\",\n",
    "    \"Sydney\": \"Australia/Sydney\",\n",
    "    \"Rio de Janeiro\": \"America/Sao_Paulo\",\n",
    "    \"Mosca\": \"Europe/Moscow\",\n",
    "    \"Pechino\": \"Asia/Shanghai\",\n",
    "    \"Delhi\": \"Asia/Kolkata\",\n",
    "    \"Berlino\": \"Europe/Berlin\",\n",
    "    \"Città del Messico\": \"America/Mexico_City\",\n",
    "    \"Johannesburg\": \"Africa/Johannesburg\",\n",
    "    \"Dubai\": \"Asia/Dubai\",\n",
    "    \"Singapore\": \"Asia/Singapore\"\n",
    "}\n",
    "\n",
    "# Ciclo principale del programma, che continua a girare finché l'utente non decide di uscire\n",
    "while True:\n",
    "    # Mostra all'utente una lista delle città disponibili\n",
    "    print(\"\\nCittà disponibili: \") #\\n è per andare a capo\n",
    "# Itera attraverso tutte le chiavi nel dizionario citta_fuso_orari\n",
    "for citta in citta_fuso_orari.keys():\n",
    "    # Stampa il nome della città\n",
    "    print(citta)\n",
    "        \n",
    "    # Richiede all'utente di inserire il nome di una città o 'esci' per uscire\n",
    "    scelta_citta = input(\"\\nInserisci il nome della città per visualizzare l'ora (o 'esci' per uscire): \").strip()\n",
    "    \n",
    "    # Verifica se l'utente ha digitato 'esci'\n",
    "    if scelta_citta.lower() == \"esci\":\n",
    "        # Saluta l'utente e termina il ciclo, chiudendo il programma\n",
    "        print(\"Arrivederci!\")\n",
    "        break\n",
    "    \n",
    "    # Verifica se la città inserita dall'utente è presente nel dizionario dei fusi orari\n",
    "    elif scelta_citta in citta_fuso_orari:\n",
    "        # Recupera il fuso orario della città scelta\n",
    "        fuso_orario = pytz.timezone(citta_fuso_orari[scelta_citta])\n",
    "        # Ottiene l'ora corrente nel fuso orario della città scelta\n",
    "        ora_corrente = datetime.now(fuso_orario)\n",
    "        # Visualizza l'ora corrente nella città scelta\n",
    "        print(f\"L'ora attuale a {scelta_citta} è {ora_corrente.strftime('%H:%M:%S')}\\n\")\n",
    "    \n",
    "    # Se la città inserita non è nel dizionario, mostra un messaggio di errore e ripete il ciclo\n",
    "    elif scelta_citta not in citta_fuso_orari:\n",
    "        print(\"La città inserita non è nella lista. Per favore, prova di nuovo.\")"
   ]
  },
  {
   "cell_type": "markdown",
   "id": "83eda2f1",
   "metadata": {},
   "source": [
    "# BMI #"
   ]
  },
  {
   "cell_type": "code",
   "execution_count": 5,
   "id": "56698050",
   "metadata": {},
   "outputs": [
    {
     "name": "stdout",
     "output_type": "stream",
     "text": [
      "Benvenuto nella calcolatrice BMI!\n",
      "Per quante persone vuoi calcolare il BMI? 1\n",
      "Inserisci il peso in chilogrammi: 33\n",
      "Inserisci l'altezza in metri: 22\n",
      "Il BMI è 0.07, sei classificato come sottopeso. \n"
     ]
    }
   ],
   "source": [
    "# Definizione della funzione per calcolare il BMI\n",
    "def calcola_bmi(peso, altezza):\n",
    "    return peso / (altezza ** 2) # doppio asterisco vuol dire alla seconda\n",
    "\n",
    "# Definizione della funzione che valuta la categoria del BMI\n",
    "def valuta_bmi(bmi):\n",
    "    if bmi < 18.5:\n",
    "        return \"sottopeso\"\n",
    "    elif 18.5 <= bmi < 24.9:\n",
    "        return \"normopeso\"\n",
    "    elif 25 <= bmi < 29.9:\n",
    "        return \"sovrappeso\"\n",
    "    else:\n",
    "        return \"obeso\"\n",
    "\n",
    "# Definizione della funzione principale\n",
    "def main():\n",
    "    # Saluta l'utente e spiega brevemente il programma\n",
    "    print(\"Benvenuto nella calcolatrice BMI!\")\n",
    "    \n",
    "    # Chiede per quante persone vuole calcolare il BMI\n",
    "    num_persone = int(input(\"Per quante persone vuoi calcolare il BMI? \"))\n",
    "\n",
    "    # Esegue il calcolo per ogni persona\n",
    "    for i in range(num_persone):\n",
    "        # Richiede all'utente di inserire il suo peso e lo converte in float\n",
    "        peso = float(input(\"Inserisci il peso in chilogrammi: \"))\n",
    "        # Richiede all'utente di inserire la sua altezza e lo converte in float\n",
    "        altezza = float(input(\"Inserisci l'altezza in metri: \"))\n",
    "    \n",
    "        # Calcola il BMI utilizzando la funzione calcola_bmi e i dati forniti dall'utente\n",
    "        bmi = calcola_bmi(peso, altezza)\n",
    "        # Determina la categoria di BMI utilizzando la funzione valuta_bmi e il BMI calcolato\n",
    "        valutazione = valuta_bmi(bmi)\n",
    "    \n",
    "        # Visualizza il BMI e la corrispondente categoria\n",
    "        print(f\"Il BMI è {bmi:.2f}, sei classificato come {valutazione}. \") #:.2f si fa cosi da avere almeno 2 carattere dopo la virgola\n",
    "if __name__ == \"__main__\":\n",
    "    main()\n",
    "         "
   ]
  },
  {
   "cell_type": "code",
   "execution_count": 4,
   "id": "3ed2da47",
   "metadata": {},
   "outputs": [
    {
     "name": "stdout",
     "output_type": "stream",
     "text": [
      "mi chiamo paolo\n"
     ]
    }
   ],
   "source": [
    "# capire if __name__ == \"__main__\": \n",
    "def paolo():\n",
    "    print(\"mi chiamo paolo\")\n",
    "if __name__ == \"__main__\":\n",
    "    paolo()"
   ]
  },
  {
   "cell_type": "code",
   "execution_count": 6,
   "id": "63b6e20e",
   "metadata": {},
   "outputs": [
    {
     "name": "stdout",
     "output_type": "stream",
     "text": [
      "Benvenuto al convertitore di unita di misura!\n",
      "che cosa desideri convertire?libbre\n",
      "Inserisci il valore in libbre: 44\n",
      "44.000 libbre corrispondono a 19.958 chilogrammi\n"
     ]
    }
   ],
   "source": [
    "# Funzione per convertire metri in piedi utilizzando il fattore di conversione standard.\n",
    "def metri_a_piedi(metri):\n",
    "    return metri * 3.28084\n",
    "\n",
    "# Funzione per convertire piedi in metri.\n",
    "def piedi_a_metri(piedi):\n",
    "    return piedi / 3.28084\n",
    "\n",
    "# Funzione per convertire chilogrammi in libbre.\n",
    "def chilogrammi_a_libbre(chilogrammi):\n",
    "    return chilogrammi * 2.20462\n",
    "\n",
    "# Funzione per convertire libbre in chilogrammi.\n",
    "def libbre_a_chilogrammi(libbre):\n",
    "    return libbre / 2.20462\n",
    "\n",
    "# Funzione che seleziona il tipo di conversione in base all'input dell'utente e stampa il risultato.\n",
    "def selezione(scelta):\n",
    "    # Controllo l'opzione scelta dall'utente e eseguo la conversione corrispondente.\n",
    "    if scelta == \"metri\":\n",
    "        valore = float(input(\"Inserisci il valore in metri: \"))\n",
    "        risultato = metri_a_piedi(valore)  # Utilizza la funzione di conversione corrispondente.\n",
    "        print(f\"{valore:.3f} metri corrispondono a {risultato:.3f} piedi\")\n",
    "    \n",
    "    elif scelta == \"piedi\":\n",
    "        valore = float(input(\"Inserisci il valore in piedi: \"))\n",
    "        risultato = piedi_a_metri(valore)\n",
    "        print(f\"{valore:.3f} piedi corrispondono a {risultato:.3f} metri\")\n",
    "    \n",
    "    elif scelta == \"chilogrammi\":\n",
    "        valore = float(input(\"Inserisci il valore in chilogrammi: \"))\n",
    "        risultato = chilogrammi_a_libbre(valore)\n",
    "        print(f\"{valore:.3f} chilogrammi corrispondono a {risultato:.3f} libbre\")\n",
    "    \n",
    "    elif scelta == \"libbre\":\n",
    "        valore = float(input(\"Inserisci il valore in libbre: \"))\n",
    "        risultato = libbre_a_chilogrammi(valore)\n",
    "        print(f\"{valore:.3f} libbre corrispondono a {risultato:.3f} chilogrammi\")\n",
    "    \n",
    "    # nel caso in cui l'opzione dell'utente non sia valida, stampa:\n",
    "    else:\n",
    "        print(\"Scelta non valida\")\n",
    "\n",
    "# Funzione principale        \n",
    "def main():\n",
    "    print(\"Benvenuto al convertitore di unita di misura!\")\n",
    "    # Chiede all'utente quale conversione desidera effettuare.\n",
    "    scelta = input(\"che cosa desideri convertire? (opzioni: metri, piedi, chilogrammi, libbre) \")\n",
    "    # Chiama la funzione di selezione con l'opzione dell'utente.\n",
    "    selezione(scelta)\n",
    "\n",
    "if __name__ == \"__main__\":\n",
    "    main()"
   ]
  },
  {
   "cell_type": "code",
   "execution_count": null,
   "id": "456e8154",
   "metadata": {},
   "outputs": [
    {
     "name": "stdout",
     "output_type": "stream",
     "text": [
      "Menu: \n",
      "1. Aggiungi cibo consumato\n",
      "2. Calcola calorie totali\n",
      "3. Esci\n",
      "Scegli una opzione: 1\n",
      "\n",
      "Ecco l'elenco di cibi disponibili:\n",
      "Pizza: 285 calorie per 100g\n",
      "Hamburger: 250 calorie per 100g\n",
      "Insalata: 100 calorie per 100g\n",
      "Inserisci il cibo consumato: pizza\n",
      "Inserisci la quantita in grammi: 12\n",
      "Menu: \n",
      "1. Aggiungi cibo consumato\n",
      "2. Calcola calorie totali\n",
      "3. Esci\n"
     ]
    }
   ],
   "source": [
    "# Dizionario che specifica diversi tipi di cibo con le loro calorie per 100g.\n",
    "cibo_calorie = {\n",
    "    \"pizza\": 285,\n",
    "    \"hamburger\": 250,\n",
    "    \"insalata\": 100,  \n",
    "}\n",
    "\n",
    "# Funzione che calcola le calorie consumate per un determinato cibo e quantità.\n",
    "def calorie_consumate(cibo, quantita):\n",
    "    # Controllo se il cibo specificato è presente nel dizionario cibo_calorie.\n",
    "    if cibo not in cibo_calorie.keys():\n",
    "        # Messaggio di errore se il cibo non è nel dizionario.\n",
    "        print(\"Cibo non presente.\")\n",
    "        return 0  # Ritorna 0 se il cibo non è presente nel dizionario.\n",
    "    else:\n",
    "        # Calcola e ritorna le calorie consumate moltiplicando le calorie per 100g del cibo per la quantità consumata.\n",
    "        return cibo_calorie[cibo] * quantita\n",
    "\n",
    "# Funzione principale che gestisce l'interazione con l'utente.\n",
    "def main():\n",
    "    cibo_consumato = []  # Lista che terrà traccia del cibo consumato e la sua quantità.\n",
    "\n",
    "    while True:  # Ciclo infinito per mantenere il programma in esecuzione fino a che l'utente decide di uscire.\n",
    "        print(\"Menu: \")\n",
    "        print(\"1. Aggiungi cibo consumato\")\n",
    "        print(\"2. Calcola calorie totali\")\n",
    "        print(\"3. Esci\")\n",
    "        \n",
    "        scelta = input(\"Scegli una opzione: \")\n",
    "        \n",
    "        # Opzione 1: Permette all'utente di aggiungere cibo e quantità alla lista cibo_consumato.\n",
    "        if scelta == \"1\":\n",
    "            print(\"\\nEcco l'elenco di cibi disponibili:\")\n",
    "            # Stampa un elenco di cibi e le loro calorie per 100g.\n",
    "            # Itera attraverso tutte le coppie chiave-valore nel dizionario cibo_calorie\n",
    "            for key, value in cibo_calorie.items():\n",
    "                # Stampa la chiave e il valore in una stringa [Correzione: l'indentazione è stata aggiunta qui]\n",
    "                print(f\"{key.capitalize()}: {value} calorie per 100g\")\n",
    "            # Input dell'utente per selezionare il cibo e la quantità.\n",
    "            cibo = input(\"Inserisci il cibo consumato: \").lower()\n",
    "            quantita = float(input(\"Inserisci la quantita in grammi: \"))\n",
    "            # Aggiunge la tupla (cibo, quantita) alla lista cibo_consumato.\n",
    "            cibo_consumato.append((cibo, quantita))\n",
    "        \n",
    "        # Calcola e mostra le calorie totali consumate.\n",
    "        elif scelta == \"2\":\n",
    "            # Usa la funzione calorie_consumate() per calcolare le calorie per ogni cibo e quantità e \n",
    "            # somma il tutto.\n",
    "            total_calories = sum(calorie_consumate(cibo, quantita) for cibo, quantita in cibo_consumato)\n",
    "            # Stampa il totale delle calorie consumate.\n",
    "            print(f\"Hai consumato un totale di {total_calories} calorie.\")\n",
    "        \n",
    "        # Esce dal programma.\n",
    "        elif scelta == \"3\":\n",
    "            print(\"Arrivederci!\")\n",
    "            break  # Rompe il ciclo while, terminando il programma.\n",
    "        \n",
    "        # Gestione di input non valido.\n",
    "        else:\n",
    "            print(\"Scelta non valida. Riprova.\")\n",
    "\n",
    "if __name__ == \"__main__\":\n",
    "    main()"
   ]
  },
  {
   "cell_type": "code",
   "execution_count": 3,
   "id": "2a58a64b",
   "metadata": {},
   "outputs": [
    {
     "name": "stdout",
     "output_type": "stream",
     "text": [
      "John0,Peter,Vicky <class 'str'>\n"
     ]
    }
   ],
   "source": [
    "# Crea una tupla chiamata myTuple, contenente tre stringhe: \"John0\", \"Peter\", e \"Vicky\"\n",
    "myTuple = (\"John0\", \"Peter\", \"Vicky\")\n",
    "\n",
    "# Usa il metodo stringa '.join()' per concatenare le stringhe contenute in 'myTuple', separandole con una virgola. Il risultato viene assegnato alla variabile 'x'.\n",
    "x = \",\".join(myTuple)\n",
    "\n",
    "# Stampa la variabile 'x' e il tipo di dati di 'x' utilizzando la funzione 'type()'.\n",
    "print(x, type(x))"
   ]
  },
  {
   "cell_type": "code",
   "execution_count": null,
   "id": "42cb240f",
   "metadata": {},
   "outputs": [],
   "source": [
    "my_tuple = ()\n",
    "print(my_tuple)\n",
    "\n",
    "my_tuple = (1, 2, 3)\n",
    "print(my_tuple)\n",
    "\n",
    "my_tuple = (1, \"Hello\")"
   ]
  },
  {
   "cell_type": "code",
   "execution_count": 4,
   "id": "090b527a",
   "metadata": {},
   "outputs": [
    {
     "name": "stdout",
     "output_type": "stream",
     "text": [
      "Personaggio fantasy generato: \n",
      "Specie: Elfo\n",
      "Classe: Guerriero\n",
      "Arma: Pugnale\n",
      "Abilità: Forza, Cura\n"
     ]
    }
   ],
   "source": [
    "# importa la libreria random\n",
    "import random\n",
    "\n",
    "# Possibili scelte per ogni attributo del personaggio\n",
    "speci = [\"Umano\", \"Elfo\", \"Nano\", \"Orco\"]\n",
    "classi = [\"Guerriero\", \"Mago\", \"Ladro\", \"Chierico\"]\n",
    "armi = [\"Spada\", \"Arco\", \"Bastone\", \"Pugnale\"]\n",
    "abilita = [\"Fuoco\", \"Gelo\", \"Cura\", \"Invisibilità\", \"Forza\", \"Velocità\"]\n",
    "\n",
    "# Scelte casuali per ogni attributo del personaggio\n",
    "specie = random.choice(speci)\n",
    "classe = random.choice(classi)\n",
    "arma = random.choice(armi)\n",
    "abilitas = random.sample(abilita, random.randint(1, 3)) # sample cosi decido io quanti elementi prendere\n",
    "\n",
    "# Stampa delle informazioni del personaggio generato\n",
    "print(\"Personaggio fantasy generato: \")\n",
    "print(f\"Specie: {specie}\")\n",
    "print(f\"Classe: {classe}\")\n",
    "print(f\"Arma: {arma}\")\n",
    "print(f\"Abilità: {', '.join(abilitas)}\")"
   ]
  },
  {
   "cell_type": "code",
   "execution_count": 1,
   "id": "c8a511c6",
   "metadata": {},
   "outputs": [
    {
     "name": "stdout",
     "output_type": "stream",
     "text": [
      "Personaggio generato: \n",
      "specie: Umano\n",
      "classe: Chierico\n",
      "arma: Arco\n",
      "abilita: Gelo, Cura\n"
     ]
    }
   ],
   "source": [
    "# Importa il modulo random per l'utilizzo di funzioni che generano numeri e scelte casuali\n",
    "import random\n",
    "\n",
    "# Definisce liste di possibili attributi per un personaggio di un gioco, quali specie, classi, armi e abilità\n",
    "speci = [\"Umano\", \"Elfo\", \"Nano\", \"Orco\"]\n",
    "classi = [\"Guerriero\", \"Mago\", \"Ladro\", \"Chierico\"]\n",
    "armi = [\"Spada\", \"Arco\", \"Bastone\", \"Pugnale\"]\n",
    "abilita = [\"Fuoco\", \"Gelo\", \"Cura\", \"Invisibilità\", \"Forza\", \"Velocità\"]\n",
    "\n",
    "# Definisce la funzione 'crea_personaggio' che genererà un personaggio con attributi casuali\n",
    "def crea_personaggio():\n",
    "    return{\n",
    "        # Seleziona casualmente un elemento da ciascuna lista di attributi usando 'random.choice()'\n",
    "        \"specie\": random.choice(speci),\n",
    "        \"classe\": random.choice(classi),\n",
    "        \"arma\":  random.choice(armi),\n",
    "        # Utilizza 'random.sample()' per scegliere da 1 a 3 abilità dalla lista 'abilita' senza ripetizioni\n",
    "        \"abilita\":  random.sample(abilita, random.randint(1, 3))\n",
    "        }\n",
    "\n",
    "# Definisce la funzione main che sarà il punto di ingresso del programma\n",
    "def main():\n",
    "    # Chiama la funzione 'crea_personaggio()' e assegna il personaggio generato alla variabile 'personaggio_generato'\n",
    "    personaggio_generato = crea_personaggio()\n",
    "    \n",
    "    # Stampa la descrizione del personaggio generato\n",
    "    print(\"Personaggio generato: \")\n",
    "    # Itera attraverso tutti gli attributi del personaggio generato\n",
    "    for chiave, valore in personaggio_generato.items(): # .items() cosi riesco ad iterare fra tutti gli elementi del dizionario\n",
    "        # Se l'attributo corrente è \"abilita\", unisce le abilità in una stringa separata da virgole\n",
    "        if chiave == \"abilita\":\n",
    "            valore = ', '.join(valore)\n",
    "        # Stampa il nome dell'attributo e il suo valore\n",
    "        print(f\"{chiave}: {valore}\")\n",
    "\n",
    "if __name__ == \"__main__\":\n",
    "    main()"
   ]
  },
  {
   "cell_type": "code",
   "execution_count": 10,
   "id": "13ebd304",
   "metadata": {},
   "outputs": [
    {
     "name": "stdout",
     "output_type": "stream",
     "text": [
      "Generatore di personaggi\n",
      "Inserisci il nome del personaggio: Meow\n",
      "Nome: Meow\n",
      "Aspetto fisico: Alto\n",
      "Aspetto personale: audace\n",
      "Sfondo: guerriero\n",
      "Motivazione: scoperta\n"
     ]
    }
   ],
   "source": [
    "# Importa il modulo random per utilizzare funzionalità che permettono la selezione casuale di elementi\n",
    "import random\n",
    "\n",
    "# Definisce liste di possibili tratti fisici, di personalità, sfondi e motivazioni per un personaggio\n",
    "physical_traits = [\"Capelli neri\", \"Capelli biondi\", \"Occhi azzurri\", \"Alto\", \"Basso\", \"Barba lunga\"]\n",
    "personality_traits = [\"gentile\", \"arrogante\", \"timido\", \"audace\", \"curioso\"]\n",
    "backgrounds = [\"contadino\", \"nobile\", \"guerriero\", \"mercante\", \"mago\"]\n",
    "motivations = [\"vendetta\", \"ricchezza\", \"potere\", \"amore\", \"scoperta\"]\n",
    "\n",
    "# Definisce una funzione chiamata genera_personaggio\n",
    "def genera_personaggio():\n",
    "    # Richiede all'utente di inserire un nome per il personaggio e lo assegna alla variabile nome\n",
    "    nome = input(\"Inserisci il nome del personaggio: \")\n",
    "    # Seleziona casualmente un elemento da ciascuna delle liste di attributi e lo assegna alle variabili corrispondenti\n",
    "    aspetto_fisico = random.choice(physical_traits)\n",
    "    aspetto_personale = random.choice(personality_traits)\n",
    "    sfondo = random.choice(backgrounds)\n",
    "    motivazione = random.choice(motivations)\n",
    "    \n",
    "    # Crea una stringa descrizione che descrive il personaggio utilizzando le variabili create\n",
    "    descrizione = (\n",
    "        f\"Nome: {nome}\\n\"\n",
    "        f\"Aspetto fisico: {aspetto_fisico}\\n\"\n",
    "        f\"Aspetto personale: {aspetto_personale}\\n\"\n",
    "        f\"Sfondo: {sfondo}\\n\"\n",
    "        f\"Motivazione: {motivazione}\"\n",
    "    )\n",
    "    \n",
    "    # Restituisce la stringa descrizione come output della funzione\n",
    "    return descrizione\n",
    "\n",
    "# Stampa un messaggio di benvenuto e la descrizione del personaggio generato chiamando la funzione genera_personaggio()\n",
    "print(\"Generatore di personaggi\")\n",
    "print(genera_personaggio())"
   ]
  },
  {
   "cell_type": "code",
   "execution_count": 1,
   "id": "dd8a0559",
   "metadata": {},
   "outputs": [
    {
     "name": "stdout",
     "output_type": "stream",
     "text": [
      "Premi invio per ottenere una citazione\n",
      "Citazione del giorno: L'unico modo per fare un ottimo lavoro è amare quello che fai. - Steve Jobs\n"
     ]
    }
   ],
   "source": [
    "# Importa la libreria random\n",
    "import random\n",
    "\n",
    "# Definisce una lista citazioni che contiene alcune citazioni famose\n",
    "citazioni = [\n",
    "    \"L'unico modo per fare un ottimo lavoro è amare quello che fai. - Steve Jobs\",\n",
    "    \"Sii il cambiamento che vuoi vedere nel mondo. - Mahatma Gandhi\"\n",
    "]\n",
    "\n",
    "# Definisce la funzione genera_citazione che restituisce una citazione scelta casualmente dalla lista citazioni\n",
    "def genera_citazione():\n",
    "    # Usa random.choice() per selezionare una citazione casuale dalla lista citazioni\n",
    "    return random.choice(citazioni)\n",
    "\n",
    "# Definisce la funzione main che gestisce il flusso principale del programma\n",
    "def main():\n",
    "    # Richiede all'utente di premere invio per generare una citazione\n",
    "    input(\"Premi invio per ottenere una citazione\")\n",
    "    \n",
    "    # Chiama la funzione genera_citazione() e assegna la citazione restituita alla variabile citazione\n",
    "    citazione = genera_citazione()\n",
    "    # Stampa la citazione selezionata, formattata con un'introduzione\n",
    "    print(f\"Citazione del giorno: {citazione}\")\n",
    "    \n",
    "if __name__ == \"__main__\": \n",
    "    main()"
   ]
  },
  {
   "cell_type": "code",
   "execution_count": null,
   "id": "a5592621",
   "metadata": {},
   "outputs": [],
   "source": []
  }
 ],
 "metadata": {
  "kernelspec": {
   "display_name": "Python 3 (ipykernel)",
   "language": "python",
   "name": "python3"
  },
  "language_info": {
   "codemirror_mode": {
    "name": "ipython",
    "version": 3
   },
   "file_extension": ".py",
   "mimetype": "text/x-python",
   "name": "python",
   "nbconvert_exporter": "python",
   "pygments_lexer": "ipython3",
   "version": "3.12.2"
  }
 },
 "nbformat": 4,
 "nbformat_minor": 5
}
